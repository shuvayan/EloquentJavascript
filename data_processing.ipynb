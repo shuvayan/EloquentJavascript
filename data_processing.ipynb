{
 "cells": [
  {
   "cell_type": "code",
   "execution_count": 76,
   "metadata": {
    "collapsed": false
   },
   "outputs": [
    {
     "data": {
      "text/html": [
       "<script>requirejs.config({paths: { 'plotly': ['https://cdn.plot.ly/plotly-latest.min']},});if(!window.Plotly) {{require(['plotly'],function(plotly) {window.Plotly=plotly;});}}</script>"
      ],
      "text/vnd.plotly.v1+html": [
       "<script>requirejs.config({paths: { 'plotly': ['https://cdn.plot.ly/plotly-latest.min']},});if(!window.Plotly) {{require(['plotly'],function(plotly) {window.Plotly=plotly;});}}</script>"
      ]
     },
     "metadata": {},
     "output_type": "display_data"
    }
   ],
   "source": [
    "import numpy as np \n",
    "import pandas as pd \n",
    "import seaborn as sns\n",
    "import matplotlib.pyplot as plt\n",
    "from mpl_toolkits.mplot3d import Axes3D\n",
    "%matplotlib inline\n",
    "# Import statements required for Plotly \n",
    "import plotly.offline as py\n",
    "py.init_notebook_mode(connected=True)\n",
    "import warnings\n",
    "warnings.filterwarnings('ignore')"
   ]
  },
  {
   "cell_type": "code",
   "execution_count": 77,
   "metadata": {
    "collapsed": false
   },
   "outputs": [
    {
     "data": {
      "text/html": [
       "<div>\n",
       "<table border=\"1\" class=\"dataframe\">\n",
       "  <thead>\n",
       "    <tr style=\"text-align: right;\">\n",
       "      <th></th>\n",
       "      <th>Terminated</th>\n",
       "      <th>Rehire</th>\n",
       "      <th>Employee_code</th>\n",
       "      <th>Department</th>\n",
       "      <th>Job Level</th>\n",
       "      <th>Tenure</th>\n",
       "      <th>TimeLastPos</th>\n",
       "      <th>Has been promoted</th>\n",
       "      <th>LastRating</th>\n",
       "      <th>Client work travel</th>\n",
       "      <th>Education</th>\n",
       "      <th>Gender</th>\n",
       "      <th>Marital Status</th>\n",
       "      <th>Annual Income</th>\n",
       "      <th>Year of Birth</th>\n",
       "    </tr>\n",
       "  </thead>\n",
       "  <tbody>\n",
       "    <tr>\n",
       "      <th>0</th>\n",
       "      <td>1</td>\n",
       "      <td>False</td>\n",
       "      <td>140384</td>\n",
       "      <td>Risk Management</td>\n",
       "      <td>Senior Analyst</td>\n",
       "      <td>253</td>\n",
       "      <td>253</td>\n",
       "      <td>No</td>\n",
       "      <td>1.965571</td>\n",
       "      <td>High Travel</td>\n",
       "      <td>Bachelors Degree</td>\n",
       "      <td>F</td>\n",
       "      <td>Single</td>\n",
       "      <td>1678</td>\n",
       "      <td>1963</td>\n",
       "    </tr>\n",
       "    <tr>\n",
       "      <th>1</th>\n",
       "      <td>1</td>\n",
       "      <td>False</td>\n",
       "      <td>120921</td>\n",
       "      <td>Tax</td>\n",
       "      <td>Senior Analyst</td>\n",
       "      <td>1384</td>\n",
       "      <td>118</td>\n",
       "      <td>Yes</td>\n",
       "      <td>1.000000</td>\n",
       "      <td>Medium Travel</td>\n",
       "      <td>Bachelors Degree</td>\n",
       "      <td>M</td>\n",
       "      <td>Married</td>\n",
       "      <td>2144</td>\n",
       "      <td>1966</td>\n",
       "    </tr>\n",
       "    <tr>\n",
       "      <th>2</th>\n",
       "      <td>1</td>\n",
       "      <td>False</td>\n",
       "      <td>88512</td>\n",
       "      <td>Audit</td>\n",
       "      <td>Staff I</td>\n",
       "      <td>1188</td>\n",
       "      <td>482</td>\n",
       "      <td>Yes</td>\n",
       "      <td>2.000000</td>\n",
       "      <td>Medium Travel</td>\n",
       "      <td>Msc Analytics</td>\n",
       "      <td>M</td>\n",
       "      <td>Married</td>\n",
       "      <td>584</td>\n",
       "      <td>1977</td>\n",
       "    </tr>\n",
       "    <tr>\n",
       "      <th>3</th>\n",
       "      <td>1</td>\n",
       "      <td>False</td>\n",
       "      <td>80636</td>\n",
       "      <td>Financial Advisory</td>\n",
       "      <td>Lead Analyst</td>\n",
       "      <td>1013</td>\n",
       "      <td>1013</td>\n",
       "      <td>No</td>\n",
       "      <td>2.000000</td>\n",
       "      <td>Medium Travel</td>\n",
       "      <td>MA</td>\n",
       "      <td>F</td>\n",
       "      <td>Married</td>\n",
       "      <td>6205</td>\n",
       "      <td>1970</td>\n",
       "    </tr>\n",
       "    <tr>\n",
       "      <th>4</th>\n",
       "      <td>0</td>\n",
       "      <td>False</td>\n",
       "      <td>123543</td>\n",
       "      <td>Sales</td>\n",
       "      <td>Lead Analyst</td>\n",
       "      <td>1300</td>\n",
       "      <td>1132</td>\n",
       "      <td>Yes</td>\n",
       "      <td>2.000000</td>\n",
       "      <td>Medium Travel</td>\n",
       "      <td>MA</td>\n",
       "      <td>F</td>\n",
       "      <td>Married</td>\n",
       "      <td>6986</td>\n",
       "      <td>1970</td>\n",
       "    </tr>\n",
       "  </tbody>\n",
       "</table>\n",
       "</div>"
      ],
      "text/plain": [
       "   Terminated Rehire  Employee_code          Department       Job Level  \\\n",
       "0           1  False         140384     Risk Management  Senior Analyst   \n",
       "1           1  False         120921                 Tax  Senior Analyst   \n",
       "2           1  False          88512               Audit         Staff I   \n",
       "3           1  False          80636  Financial Advisory    Lead Analyst   \n",
       "4           0  False         123543               Sales    Lead Analyst   \n",
       "\n",
       "   Tenure  TimeLastPos Has been promoted  LastRating Client work travel  \\\n",
       "0     253          253                No    1.965571        High Travel   \n",
       "1    1384          118               Yes    1.000000      Medium Travel   \n",
       "2    1188          482               Yes    2.000000      Medium Travel   \n",
       "3    1013         1013                No    2.000000      Medium Travel   \n",
       "4    1300         1132               Yes    2.000000      Medium Travel   \n",
       "\n",
       "          Education Gender Marital Status  Annual Income  Year of Birth  \n",
       "0  Bachelors Degree      F         Single           1678           1963  \n",
       "1  Bachelors Degree      M        Married           2144           1966  \n",
       "2     Msc Analytics      M        Married            584           1977  \n",
       "3                MA      F        Married           6205           1970  \n",
       "4                MA      F        Married           6986           1970  "
      ]
     },
     "execution_count": 77,
     "metadata": {},
     "output_type": "execute_result"
    }
   ],
   "source": [
    "import os\n",
    "data_folder = '/home/shuvayan/Downloads/Deloitte/'\n",
    "attrition = pd.read_csv(data_folder + 'Attrition.csv')\n",
    "attrition.head()"
   ]
  },
  {
   "cell_type": "code",
   "execution_count": 78,
   "metadata": {
    "collapsed": false
   },
   "outputs": [
    {
     "data": {
      "text/plain": [
       "Terminated            False\n",
       "Rehire                False\n",
       "Department             True\n",
       "Job Level             False\n",
       "Tenure                False\n",
       "TimeLastPos           False\n",
       "Has been promoted     False\n",
       "LastRating            False\n",
       "Client work travel    False\n",
       "Education             False\n",
       "Gender                False\n",
       "Marital Status        False\n",
       "Annual Income         False\n",
       "dtype: bool"
      ]
     },
     "execution_count": 78,
     "metadata": {},
     "output_type": "execute_result"
    }
   ],
   "source": [
    "#Drop the employee code:\n",
    "attrition.drop('Employee_code', axis=1, inplace=True)\n",
    "#Calculate age from DOB column : Assumption - Employees have left in 2017\n",
    "attrition.drop('Year of Birth',axis = 1,inplace = True)\n",
    "attrition.isnull().any()"
   ]
  },
  {
   "cell_type": "code",
   "execution_count": 79,
   "metadata": {
    "collapsed": false
   },
   "outputs": [
    {
     "data": {
      "text/plain": [
       "(11790, 13)"
      ]
     },
     "execution_count": 79,
     "metadata": {},
     "output_type": "execute_result"
    }
   ],
   "source": [
    "#Only department has missing values,assign a seperate category to these records\n",
    "attrition_df = attrition.fillna(\"unknown\")\n",
    "attrition_df.isnull().any()\n",
    "attrition_df.columns.to_series().groupby(attrition_df.dtypes).groups\n",
    "# The target column is in integer format,change to categorical\n",
    "attrition_df['Terminated'] = attrition_df['Terminated'].astype('category')\n",
    "# Summary statistics of the data:\n",
    "attrition_df.describe()\n",
    "attrition_df.shape"
   ]
  },
  {
   "cell_type": "code",
   "execution_count": 80,
   "metadata": {
    "collapsed": false
   },
   "outputs": [],
   "source": [
    "#There seem to be some spurious data which have tenure as -ve ,check if such records are less than 5% of the sample,if so delete.\n",
    "attrition_df.Tenure.le(0).value_counts(True)\n",
    "#This is a very small % hence remove these records\n",
    "attrition_df.drop(attrition_df[attrition_df.Tenure < 0].index, inplace=True)"
   ]
  },
  {
   "cell_type": "code",
   "execution_count": 81,
   "metadata": {
    "collapsed": false
   },
   "outputs": [
    {
     "data": {
      "image/png": "[encoded data removed]",
      "text/plain": [
       "<matplotlib.figure.Figure at 0x7f5fe00c9518>"
      ]
     },
     "metadata": {},
     "output_type": "display_data"
    }
   ],
   "source": [
    "#Let's see the distribution of Terminated vis a vis Tenure and TimeLastPos\n",
    "sns.lmplot('Tenure', 'TimeLastPos', data=attrition_df, hue='Terminated', fit_reg=False)\n",
    "plt.show()"
   ]
  },
  {
   "cell_type": "markdown",
   "metadata": {},
   "source": [
    "There is a huge concentration of Terminated = 1 around the region where both Tenure and TimeLastPos are low.It also seems that there are records where Tenure < TimeLastPos.Also there are records where TimeLastPos = 0 & also Hasbeenpromoted = 'Yes',which is clearly erroneous.So let us inspect these records."
   ]
  },
  {
   "cell_type": "code",
   "execution_count": 82,
   "metadata": {
    "collapsed": false
   },
   "outputs": [
    {
     "data": {
      "text/plain": [
       "(1278, 13)"
      ]
     },
     "execution_count": 82,
     "metadata": {},
     "output_type": "execute_result"
    }
   ],
   "source": [
    "attrition_err = attrition_df.loc[(attrition_df['TimeLastPos'] > attrition_df['Tenure']) | (attrition_df['TimeLastPos'] == 0)]\n",
    "attrition_err.head()\n",
    "attrition_err.shape"
   ]
  },
  {
   "cell_type": "markdown",
   "metadata": {},
   "source": [
    "There are 1278 records which contain Tenure values which are less than TimeLastPos and where TimeLastPos = 0.For the records where TimeLastPos = 0 it can be assumed that they have been promoted recently and it is not updated in the system.But what about the records where Tenure < TimeLastPos.It is clearly an error and in absence of interaction with the database maintainer/business,inclination is to either remove such records or remove the variable TimeLastPos.But let's see the distribution of Terminated in these set of records."
   ]
  },
  {
   "cell_type": "code",
   "execution_count": 83,
   "metadata": {
    "collapsed": false
   },
   "outputs": [
    {
     "data": {
      "image/png": "[encoded data removed]",
      "text/plain": [
       "<matplotlib.figure.Figure at 0x7f5fc7d40710>"
      ]
     },
     "metadata": {},
     "output_type": "display_data"
    }
   ],
   "source": [
    "# Employees Left-Stayed Ratio\n",
    "employees_left_plt = sns.countplot(x = \"Terminated\",data = attrition_err)"
   ]
  },
  {
   "cell_type": "markdown",
   "metadata": {},
   "source": [
    "The proportion of Terminated = 0 is certainly much more than in the sample which includes this data also.Can it be that there is a reason for these anomalies to exist.Do they point towards something- might be an error during the data capturing process for these employees.\n",
    "Now let us find out if the variable TimeLastPos is an important predictor."
   ]
  },
  {
   "cell_type": "code",
   "execution_count": 84,
   "metadata": {
    "collapsed": false
   },
   "outputs": [
    {
     "data": {
      "text/plain": [
       "<matplotlib.axes._subplots.AxesSubplot at 0x7f5fc7fe3c50>"
      ]
     },
     "execution_count": 84,
     "metadata": {},
     "output_type": "execute_result"
    },
    {
     "data": {
      "image/png": "[encoded data removed]",
      "text/plain": [
       "<matplotlib.figure.Figure at 0x7f5fc7c74c18>"
      ]
     },
     "metadata": {},
     "output_type": "display_data"
    }
   ],
   "source": [
    "# load X and y\n",
    "attrition_ohe = pd.get_dummies(attrition_df.drop('Terminated',axis = 1))\n",
    "predictors = attrition_ohe.columns\n",
    "X = attrition_ohe[predictors]\n",
    "y = attrition_df['Terminated']\n",
    "y = y.ravel()\n",
    "\n",
    "# Build a forest and compute the feature importances\n",
    "from sklearn.ensemble import RandomForestClassifier\n",
    "from sklearn.cross_validation import train_test_split\n",
    "X_train, X_test, y_train, y_test = train_test_split(X, y, test_size=0.20)\n",
    "\n",
    "clf = RandomForestClassifier(max_features=5)\n",
    "clf.fit(X_train.values, y_train)\n",
    "\n",
    "#show to plot importances\n",
    "importances = pd.DataFrame({'feature':X_train.columns,'importance':np.round(clf.feature_importances_,3)})\n",
    "importances = importances.sort_values('importance',ascending=False).set_index('feature')\n",
    "importances.plot.bar(figsize = (13,10))"
   ]
  },
  {
   "cell_type": "markdown",
   "metadata": {},
   "source": [
    "TimeLastPos is the third most important variable.RandomForests have difficulty in selecting important variables when they are highly correlated.Let's see the correlation plot between Tenure and TimeLastPos."
   ]
  },
  {
   "cell_type": "code",
   "execution_count": 85,
   "metadata": {
    "collapsed": false
   },
   "outputs": [
    {
     "data": {
      "image/png": "[encoded data removed]",
      "text/plain": [
       "<matplotlib.figure.Figure at 0x7f5febc7b4e0>"
      ]
     },
     "metadata": {},
     "output_type": "display_data"
    }
   ],
   "source": [
    "sns.lmplot('Tenure', 'TimeLastPos', data=attrition_df, fit_reg=False)\n",
    "plt.show()"
   ]
  },
  {
   "cell_type": "markdown",
   "metadata": {},
   "source": [
    "There is high correlation between the variables as is evident from this figure.Hence we will remove TimeLastPos from the data for modelling purposes.Also,more than number of days since last promotion, a variable like NumberofTimes promoted during Tenure will be more helpful."
   ]
  },
  {
   "cell_type": "markdown",
   "metadata": {},
   "source": [
    "Visualization"
   ]
  },
  {
   "cell_type": "code",
   "execution_count": 86,
   "metadata": {
    "collapsed": false
   },
   "outputs": [
    {
     "data": {
      "text/plain": [
       "<matplotlib.axes._subplots.AxesSubplot at 0x7f5fe01b8908>"
      ]
     },
     "execution_count": 86,
     "metadata": {},
     "output_type": "execute_result"
    },
    {
     "data": {
      "image/png": "[encoded data removed]",
      "text/plain": [
       "<matplotlib.figure.Figure at 0x7f5fe45dfc50>"
      ]
     },
     "metadata": {},
     "output_type": "display_data"
    }
   ],
   "source": [
    "attrition_df['Tenure_years']= round(round((attrition_df['Tenure']/365)*12)/12,1)\n",
    "attrition_df.drop('Tenure', axis=1, inplace=True)\n",
    "x = attrition_df['Tenure_years']\n",
    "sns.distplot(x)"
   ]
  },
  {
   "cell_type": "code",
   "execution_count": 87,
   "metadata": {
    "collapsed": false
   },
   "outputs": [
    {
     "data": {
      "text/plain": [
       "<matplotlib.axes._subplots.AxesSubplot at 0x7f5fc7c02a58>"
      ]
     },
     "execution_count": 87,
     "metadata": {},
     "output_type": "execute_result"
    },
    {
     "data": {
      "image/png": "[encoded data removed]",
      "text/plain": [
       "<matplotlib.figure.Figure at 0x7f5fe004a5f8>"
      ]
     },
     "metadata": {},
     "output_type": "display_data"
    }
   ],
   "source": [
    "# It seems there are outliers ,so let's verify with a box-plot\n",
    "sns.boxplot(x)"
   ]
  },
  {
   "cell_type": "markdown",
   "metadata": {},
   "source": [
    "There are large number of people who have been working in the company for more than 20 years.We will create Tenure Buckets and see the characteristics of these groups."
   ]
  },
  {
   "cell_type": "code",
   "execution_count": 88,
   "metadata": {
    "collapsed": false
   },
   "outputs": [
    {
     "data": {
      "text/plain": [
       "0"
      ]
     },
     "execution_count": 88,
     "metadata": {},
     "output_type": "execute_result"
    }
   ],
   "source": [
    "bins = [0, 3, 5, 10, 15, 20, 43]\n",
    "group_names = ['0-3', '3-5', '5-10', '10-15','15-20','+20']\n",
    "tenure_year_bucket = pd.cut(attrition_df['Tenure_years'], bins, labels=group_names)\n",
    "attrition_df['tenure_year_bucket'] = pd.cut(attrition_df['Tenure_years'], bins, labels=group_names)\n",
    "attrition_df.tenure_year_bucket.fillna('0-3',inplace = True)\n",
    "sum(attrition_df.tenure_year_bucket.isnull())"
   ]
  },
  {
   "cell_type": "code",
   "execution_count": 89,
   "metadata": {
    "collapsed": false
   },
   "outputs": [
    {
     "data": {
      "image/png": "[encoded data removed]",
      "text/plain": [
       "<matplotlib.figure.Figure at 0x7f5fe016b5f8>"
      ]
     },
     "metadata": {},
     "output_type": "display_data"
    }
   ],
   "source": [
    "# See the distribution of Terminated across all age buckets\n",
    "ax = sns.countplot(x=\"tenure_year_bucket\", hue=\"Terminated\", data=attrition_df)"
   ]
  },
  {
   "cell_type": "markdown",
   "metadata": {},
   "source": [
    "This clearly shows that there are large number of people in the Tenure Bucket of 0-3 and 3-5 years who have left.\n",
    "What might be the reason? Let's see the number of promotions in these buckets."
   ]
  },
  {
   "cell_type": "code",
   "execution_count": 90,
   "metadata": {
    "collapsed": false
   },
   "outputs": [
    {
     "data": {
      "image/png": "[encoded data removed]",
      "text/plain": [
       "<matplotlib.figure.Figure at 0x7f5fc7d5b2e8>"
      ]
     },
     "metadata": {},
     "output_type": "display_data"
    }
   ],
   "source": [
    "ax = sns.countplot(x=\"tenure_year_bucket\", hue=\"Has been promoted\", data=attrition_df)"
   ]
  },
  {
   "cell_type": "markdown",
   "metadata": {},
   "source": [
    "There seems to be no evidence suggesting that promotions is a problem,can it be that people are leaving due to Travel issues or Departmental problems."
   ]
  },
  {
   "cell_type": "code",
   "execution_count": 91,
   "metadata": {
    "collapsed": false
   },
   "outputs": [
    {
     "data": {
      "image/png": "[encoded data removed]",
      "text/plain": [
       "<matplotlib.figure.Figure at 0x7f5fc7d2e6a0>"
      ]
     },
     "metadata": {},
     "output_type": "display_data"
    }
   ],
   "source": [
    "ax = sns.countplot(x=\"tenure_year_bucket\", hue=\"Client work travel\", data=attrition_df)"
   ]
  },
  {
   "cell_type": "markdown",
   "metadata": {},
   "source": [
    "In the tenure bracket of 0-3 there seems to be quite a lot of travel both but this does not offer any conclusive \n",
    "evidence.Is it a problem in the departments?"
   ]
  },
  {
   "cell_type": "code",
   "execution_count": 92,
   "metadata": {
    "collapsed": false
   },
   "outputs": [
    {
     "data": {
      "text/plain": [
       "<matplotlib.axes._subplots.AxesSubplot at 0x7f5fc7d76b70>"
      ]
     },
     "execution_count": 92,
     "metadata": {},
     "output_type": "execute_result"
    },
    {
     "data": {
      "image/png": "[encoded data removed]",
      "text/plain": [
       "<matplotlib.figure.Figure at 0x7f5fe72e4f60>"
      ]
     },
     "metadata": {},
     "output_type": "display_data"
    }
   ],
   "source": [
    "fig, ax = plt.subplots(figsize=(10,8))\n",
    "sns.countplot(x=\"Department\", hue=\"Terminated\", data=attrition_df)"
   ]
  },
  {
   "cell_type": "markdown",
   "metadata": {},
   "source": [
    "Audit and Financial Advisory seems to have a large number of people leaving.Let's drill down."
   ]
  },
  {
   "cell_type": "code",
   "execution_count": 93,
   "metadata": {
    "collapsed": false
   },
   "outputs": [
    {
     "data": {
      "image/png": "[encoded data removed]",
      "text/plain": [
       "<matplotlib.figure.Figure at 0x7f5fc7cf98d0>"
      ]
     },
     "metadata": {},
     "output_type": "display_data"
    },
    {
     "name": "stdout",
     "output_type": "stream",
     "text": [
      "Percentage of employees that left by department \n",
      "\n",
      " Risk Management       43.52\n",
      "Audit                 42.25\n",
      "Financial Advisory    36.18\n",
      "Finance               36.09\n",
      "Tax                   35.65\n",
      "Consulting            35.45\n",
      "Support               29.63\n",
      "Sales                 24.95\n",
      "IT                    23.95\n",
      "unknown                7.32\n",
      "Name: Department, dtype: float64\n"
     ]
    }
   ],
   "source": [
    "left_data = attrition_df[attrition_df.Terminated == 1]\n",
    "attrition_df.Department.value_counts().plot(kind='bar',color = 'green')\n",
    "left_data.Department.value_counts().plot(kind='bar', color = 'blue')\n",
    "plt.title =('Share of Employees that Left by Department')\n",
    "plt.xlabel('Departments')\n",
    "plt.ylabel('Employee Count')\n",
    "plt.show()\n",
    "percent_left = round(left_data.Department.value_counts()/ attrition_df.Department.value_counts() * 100, 2)\n",
    "print('Percentage of employees that left by department \\n\\n', percent_left.sort_values(ascending = False))"
   ]
  },
  {
   "cell_type": "code",
   "execution_count": 94,
   "metadata": {
    "collapsed": false
   },
   "outputs": [
    {
     "data": {
      "text/plain": [
       "<matplotlib.axes._subplots.AxesSubplot at 0x7f5fc7c8a630>"
      ]
     },
     "execution_count": 94,
     "metadata": {},
     "output_type": "execute_result"
    },
    {
     "data": {
      "image/png": "[encoded data removed]",
      "text/plain": [
       "<matplotlib.figure.Figure at 0x7f5fc7c53e80>"
      ]
     },
     "metadata": {},
     "output_type": "display_data"
    }
   ],
   "source": [
    "# Let's see the promotions by Dept.\n",
    "fig, ax = plt.subplots(figsize=(10,8))\n",
    "sns.countplot(x=\"Department\", hue=\"Has been promoted\", data=attrition_df)"
   ]
  },
  {
   "cell_type": "code",
   "execution_count": 95,
   "metadata": {
    "collapsed": false
   },
   "outputs": [
    {
     "data": {
      "text/plain": [
       "<matplotlib.figure.Figure at 0x7f5fe6e1d2e8>"
      ]
     },
     "metadata": {},
     "output_type": "display_data"
    },
    {
     "data": {
      "image/png": "[encoded data removed]",
      "text/plain": [
       "<matplotlib.figure.Figure at 0x7f5fe6e3bb00>"
      ]
     },
     "metadata": {},
     "output_type": "display_data"
    }
   ],
   "source": [
    "#let's pairplot\n",
    "plt.figure(figsize=[12,12])\n",
    "#sns.set(style=\"ticks\")\n",
    "sns.pairplot(attrition_df, hue='Terminated',size = 5,aspect = 1,palette={0:(0.2588,0.4433,1.0),1:(1.0,0.5,0.62)},\n",
    "             vars=['Annual Income','LastRating'])\n",
    "plt.show()"
   ]
  },
  {
   "cell_type": "markdown",
   "metadata": {},
   "source": [
    "It seems that the Annual Income is a cause for many people leaving.Let us divide the Income into buckets - 'Low',\n",
    "'Medium' and 'High' and try to re-confirm."
   ]
  },
  {
   "cell_type": "code",
   "execution_count": 96,
   "metadata": {
    "collapsed": false
   },
   "outputs": [
    {
     "data": {
      "text/plain": [
       "<matplotlib.axes._subplots.AxesSubplot at 0x7f5fe45fbf60>"
      ]
     },
     "execution_count": 96,
     "metadata": {},
     "output_type": "execute_result"
    },
    {
     "data": {
      "image/png": "[encoded data removed]",
      "text/plain": [
       "<matplotlib.figure.Figure at 0x7f5fe3e0b7f0>"
      ]
     },
     "metadata": {},
     "output_type": "display_data"
    }
   ],
   "source": [
    "sns.distplot(np.array(attrition_df['Annual Income'].values));\n",
    "attrition_df['Annual Income'].describe();\n",
    "sns.kdeplot(attrition_df.loc[attrition_df[\"Terminated\"] == 1, \"Annual Income\"], color = \"lightseagreen\")\n",
    "sns.kdeplot(attrition_df.loc[attrition_df[\"Terminated\"] == 0, \"Annual Income\"], color = \"tomato\")"
   ]
  },
  {
   "cell_type": "code",
   "execution_count": 97,
   "metadata": {
    "collapsed": false
   },
   "outputs": [
    {
     "data": {
      "text/plain": [
       "Low       5892\n",
       "Medium    3571\n",
       "High      2317\n",
       "Name: salary_bucket, dtype: int64"
      ]
     },
     "execution_count": 97,
     "metadata": {},
     "output_type": "execute_result"
    }
   ],
   "source": [
    "#Divide Annual Income similarly\n",
    "bins = [0, 1715, 3000,10000]\n",
    "group_names = ['Low', 'Medium', 'High']\n",
    "salary_bucket = pd.cut(attrition_df['Annual Income'], bins, labels=group_names)\n",
    "attrition_df['salary_bucket'] = pd.cut(attrition_df['Annual Income'], bins, labels=group_names)\n",
    "attrition_df.salary_bucket.value_counts()"
   ]
  },
  {
   "cell_type": "code",
   "execution_count": 98,
   "metadata": {
    "collapsed": false
   },
   "outputs": [
    {
     "data": {
      "image/png": "[encoded data removed]",
      "text/plain": [
       "<matplotlib.figure.Figure at 0x7f5fc7f49860>"
      ]
     },
     "metadata": {},
     "output_type": "display_data"
    },
    {
     "data": {
      "image/png": "[encoded data removed]",
      "text/plain": [
       "<matplotlib.figure.Figure at 0x7f5fe6cec668>"
      ]
     },
     "metadata": {},
     "output_type": "display_data"
    }
   ],
   "source": [
    "fig = plt.figure()\n",
    "ax = fig.add_subplot(111)\n",
    "salary_tick = ['Low','Medium','High']\n",
    "#number of the the people in each group for both the ones who left and the ones who did not\n",
    "salary_left = attrition_df[attrition_df['Terminated'] == 1].salary_bucket.value_counts()[0:3]\n",
    "salary_not_left = attrition_df[attrition_df['Terminated'] == 0].salary_bucket.value_counts()[0:3]\n",
    "\n",
    "ax.bar(np.arange(len(salary_tick)),salary_left,align='center',color=(1.0,0.5,0.62))\n",
    "ax.bar(np.arange(len(salary_tick)),salary_not_left,align='center',color=(0.2588,0.4433,1.0),bottom=salary_left)\n",
    "\n",
    "plt.legend(['left=1','left=0'])\n",
    "plt.xticks(np.arange(len(salary_tick)), salary_tick)\n",
    "plt.show()\n",
    "\n",
    "plt.figure(figsize=[9,4])\n",
    "\n",
    "for i in range(0,3):\n",
    "    plt.subplot(1,3,i+1)\n",
    "    plt.pie([salary_left[i],salary_not_left[i]],\n",
    "           labels=['left=1','left=0'],\n",
    "           shadow=True,startangle=120,colors=[(1.0,0.5,0.62),(0.2588,0.4433,1.0)],\n",
    "           autopct='%1.1f%%',explode=[0.15,0])\n",
    "    #plt.title(salary_tick[i])\n",
    "\n",
    "plt.show()"
   ]
  },
  {
   "cell_type": "code",
   "execution_count": 99,
   "metadata": {
    "collapsed": false
   },
   "outputs": [
    {
     "data": {
      "text/plain": [
       "<matplotlib.axes._subplots.AxesSubplot at 0x7f5fe6d1e3c8>"
      ]
     },
     "execution_count": 99,
     "metadata": {},
     "output_type": "execute_result"
    },
    {
     "data": {
      "image/png": "[encoded data removed]",
      "text/plain": [
       "<matplotlib.figure.Figure at 0x7f5fc7c89278>"
      ]
     },
     "metadata": {},
     "output_type": "display_data"
    }
   ],
   "source": [
    "fig, ax = plt.subplots(figsize=(10,8))\n",
    "sns.countplot(x=\"Job Level\", hue=\"Terminated\", data=attrition_df)"
   ]
  },
  {
   "cell_type": "markdown",
   "metadata": {},
   "source": [
    "We have seen earlier that salary is a factor which is influencing people staying or leaving.Lets see its breakup \n",
    "department wise."
   ]
  },
  {
   "cell_type": "code",
   "execution_count": 100,
   "metadata": {
    "collapsed": false
   },
   "outputs": [
    {
     "data": {
      "text/plain": [
       "<matplotlib.axes._subplots.AxesSubplot at 0x7f5fe6d21400>"
      ]
     },
     "execution_count": 100,
     "metadata": {},
     "output_type": "execute_result"
    },
    {
     "data": {
      "image/png": "[encoded data removed]",
      "text/plain": [
       "<matplotlib.figure.Figure at 0x7f5fc7aa4780>"
      ]
     },
     "metadata": {},
     "output_type": "display_data"
    }
   ],
   "source": [
    "fig, ax = plt.subplots(figsize=(10,8))\n",
    "sns.countplot(x='salary_bucket', hue='Department', data=attrition_df, palette='Set3')"
   ]
  },
  {
   "cell_type": "markdown",
   "metadata": {},
   "source": [
    "It seems that low salary and department are influencing Leaving or Staying Decisions."
   ]
  },
  {
   "cell_type": "code",
   "execution_count": 101,
   "metadata": {
    "collapsed": false
   },
   "outputs": [
    {
     "name": "stdout",
     "output_type": "stream",
     "text": [
      "salary_bucket        Low  Medium  High   All\n",
      "Department                                  \n",
      "Audit               1444     227    82  1753\n",
      "Consulting            16      44    18    78\n",
      "Finance              264     282    91   637\n",
      "Financial Advisory   237     374   203   814\n",
      "IT                    17      26    20    63\n",
      "Risk Management      130     232    58   420\n",
      "Sales                 44      44    37   125\n",
      "Support                4       3     1     8\n",
      "Tax                  220     219   131   570\n",
      "unknown                2       1     0     3\n",
      "All                 2378    1452   641  4471\n"
     ]
    }
   ],
   "source": [
    "#Chi-Sq test for Terminated = 0/1 across Department and Salary Bucket.\n",
    "attrition_df_left = attrition_df[attrition_df['Terminated'] == 1]\n",
    "contingency = pd.crosstab(attrition_df_left.Department,attrition_df_left.salary_bucket,margins = True)\n",
    "print (contingency)"
   ]
  },
  {
   "cell_type": "code",
   "execution_count": 102,
   "metadata": {
    "collapsed": false
   },
   "outputs": [
    {
     "data": {
      "text/html": [
       "<div>\n",
       "<table border=\"1\" class=\"dataframe\">\n",
       "  <thead>\n",
       "    <tr style=\"text-align: right;\">\n",
       "      <th></th>\n",
       "      <th>Terminated</th>\n",
       "      <th>Rehire</th>\n",
       "      <th>Department</th>\n",
       "      <th>Job Level</th>\n",
       "      <th>TimeLastPos</th>\n",
       "      <th>Has been promoted</th>\n",
       "      <th>LastRating</th>\n",
       "      <th>Client work travel</th>\n",
       "      <th>Education</th>\n",
       "      <th>Gender</th>\n",
       "      <th>Marital Status</th>\n",
       "      <th>Annual Income</th>\n",
       "      <th>Tenure_years</th>\n",
       "      <th>tenure_year_bucket</th>\n",
       "      <th>salary_bucket</th>\n",
       "      <th>performance(standard units)</th>\n",
       "      <th>performance label</th>\n",
       "      <th>left(as_string)</th>\n",
       "    </tr>\n",
       "  </thead>\n",
       "  <tbody>\n",
       "    <tr>\n",
       "      <th>0</th>\n",
       "      <td>1</td>\n",
       "      <td>False</td>\n",
       "      <td>Risk Management</td>\n",
       "      <td>Senior Analyst</td>\n",
       "      <td>253</td>\n",
       "      <td>No</td>\n",
       "      <td>1.965571</td>\n",
       "      <td>High Travel</td>\n",
       "      <td>Bachelors Degree</td>\n",
       "      <td>F</td>\n",
       "      <td>Single</td>\n",
       "      <td>1678</td>\n",
       "      <td>0.7</td>\n",
       "      <td>0-3</td>\n",
       "      <td>Low</td>\n",
       "      <td>-3.216697e-10</td>\n",
       "      <td>Average or Below</td>\n",
       "      <td>left</td>\n",
       "    </tr>\n",
       "    <tr>\n",
       "      <th>1</th>\n",
       "      <td>1</td>\n",
       "      <td>False</td>\n",
       "      <td>Tax</td>\n",
       "      <td>Senior Analyst</td>\n",
       "      <td>118</td>\n",
       "      <td>Yes</td>\n",
       "      <td>1.000000</td>\n",
       "      <td>Medium Travel</td>\n",
       "      <td>Bachelors Degree</td>\n",
       "      <td>M</td>\n",
       "      <td>Married</td>\n",
       "      <td>2144</td>\n",
       "      <td>3.8</td>\n",
       "      <td>3-5</td>\n",
       "      <td>Medium</td>\n",
       "      <td>-1.652971e+00</td>\n",
       "      <td>Average or Below</td>\n",
       "      <td>left</td>\n",
       "    </tr>\n",
       "    <tr>\n",
       "      <th>2</th>\n",
       "      <td>1</td>\n",
       "      <td>False</td>\n",
       "      <td>Audit</td>\n",
       "      <td>Staff I</td>\n",
       "      <td>482</td>\n",
       "      <td>Yes</td>\n",
       "      <td>2.000000</td>\n",
       "      <td>Medium Travel</td>\n",
       "      <td>Msc Analytics</td>\n",
       "      <td>M</td>\n",
       "      <td>Married</td>\n",
       "      <td>584</td>\n",
       "      <td>3.2</td>\n",
       "      <td>3-5</td>\n",
       "      <td>Low</td>\n",
       "      <td>5.893929e-02</td>\n",
       "      <td>Average or Below</td>\n",
       "      <td>left</td>\n",
       "    </tr>\n",
       "    <tr>\n",
       "      <th>3</th>\n",
       "      <td>1</td>\n",
       "      <td>False</td>\n",
       "      <td>Financial Advisory</td>\n",
       "      <td>Lead Analyst</td>\n",
       "      <td>1013</td>\n",
       "      <td>No</td>\n",
       "      <td>2.000000</td>\n",
       "      <td>Medium Travel</td>\n",
       "      <td>MA</td>\n",
       "      <td>F</td>\n",
       "      <td>Married</td>\n",
       "      <td>6205</td>\n",
       "      <td>2.8</td>\n",
       "      <td>0-3</td>\n",
       "      <td>High</td>\n",
       "      <td>5.893929e-02</td>\n",
       "      <td>Average or Below</td>\n",
       "      <td>left</td>\n",
       "    </tr>\n",
       "    <tr>\n",
       "      <th>4</th>\n",
       "      <td>0</td>\n",
       "      <td>False</td>\n",
       "      <td>Sales</td>\n",
       "      <td>Lead Analyst</td>\n",
       "      <td>1132</td>\n",
       "      <td>Yes</td>\n",
       "      <td>2.000000</td>\n",
       "      <td>Medium Travel</td>\n",
       "      <td>MA</td>\n",
       "      <td>F</td>\n",
       "      <td>Married</td>\n",
       "      <td>6986</td>\n",
       "      <td>3.6</td>\n",
       "      <td>3-5</td>\n",
       "      <td>High</td>\n",
       "      <td>5.893929e-02</td>\n",
       "      <td>Average or Below</td>\n",
       "      <td>stayed</td>\n",
       "    </tr>\n",
       "  </tbody>\n",
       "</table>\n",
       "</div>"
      ],
      "text/plain": [
       "  Terminated Rehire          Department       Job Level  TimeLastPos  \\\n",
       "0          1  False     Risk Management  Senior Analyst          253   \n",
       "1          1  False                 Tax  Senior Analyst          118   \n",
       "2          1  False               Audit         Staff I          482   \n",
       "3          1  False  Financial Advisory    Lead Analyst         1013   \n",
       "4          0  False               Sales    Lead Analyst         1132   \n",
       "\n",
       "  Has been promoted  LastRating Client work travel         Education Gender  \\\n",
       "0                No    1.965571        High Travel  Bachelors Degree      F   \n",
       "1               Yes    1.000000      Medium Travel  Bachelors Degree      M   \n",
       "2               Yes    2.000000      Medium Travel     Msc Analytics      M   \n",
       "3                No    2.000000      Medium Travel                MA      F   \n",
       "4               Yes    2.000000      Medium Travel                MA      F   \n",
       "\n",
       "  Marital Status  Annual Income  Tenure_years tenure_year_bucket  \\\n",
       "0         Single           1678           0.7                0-3   \n",
       "1        Married           2144           3.8                3-5   \n",
       "2        Married            584           3.2                3-5   \n",
       "3        Married           6205           2.8                0-3   \n",
       "4        Married           6986           3.6                3-5   \n",
       "\n",
       "  salary_bucket  performance(standard units) performance label left(as_string)  \n",
       "0           Low                -3.216697e-10  Average or Below            left  \n",
       "1        Medium                -1.652971e+00  Average or Below            left  \n",
       "2           Low                 5.893929e-02  Average or Below            left  \n",
       "3          High                 5.893929e-02  Average or Below            left  \n",
       "4          High                 5.893929e-02  Average or Below          stayed  "
      ]
     },
     "execution_count": 102,
     "metadata": {},
     "output_type": "execute_result"
    }
   ],
   "source": [
    "eval_mean = attrition_df['LastRating'].mean()\n",
    "eval_std = np.std(attrition_df['LastRating'])\n",
    "attrition_df['performance(standard units)'] = (attrition_df['LastRating']- eval_mean)/eval_std\n",
    "\n",
    "def performance_label(row):\n",
    "    performance = row['performance(standard units)']\n",
    "    if performance > 1.96:\n",
    "        result = 'Above Average'\n",
    "    else:\n",
    "        result = 'Average or Below'\n",
    "    return(result)\n",
    "\n",
    "attrition_df['performance label'] = attrition_df.apply(performance_label, axis = 1)\n",
    "\n",
    "left_dict = {1: 'left', 0: 'stayed'}\n",
    "\n",
    "attrition_df['left(as_string)'] = (attrition_df['Terminated'].map(left_dict))\n",
    "attrition_df.head()"
   ]
  },
  {
   "cell_type": "code",
   "execution_count": 103,
   "metadata": {
    "collapsed": false
   },
   "outputs": [
    {
     "data": {
      "text/html": [
       "<div>\n",
       "<table border=\"1\" class=\"dataframe\">\n",
       "  <thead>\n",
       "    <tr style=\"text-align: right;\">\n",
       "      <th>Performance cluster</th>\n",
       "      <th>left : Above Average</th>\n",
       "      <th>left : Average or Below</th>\n",
       "      <th>stayed : Above Average</th>\n",
       "      <th>stayed : Average or Below</th>\n",
       "    </tr>\n",
       "  </thead>\n",
       "  <tbody>\n",
       "    <tr>\n",
       "      <th>Annual Income</th>\n",
       "      <td>2080.121951</td>\n",
       "      <td>1989.073815</td>\n",
       "      <td>1311.500000</td>\n",
       "      <td>2410.692476</td>\n",
       "    </tr>\n",
       "    <tr>\n",
       "      <th>LastRating</th>\n",
       "      <td>4.000000</td>\n",
       "      <td>2.079870</td>\n",
       "      <td>4.000000</td>\n",
       "      <td>1.881403</td>\n",
       "    </tr>\n",
       "    <tr>\n",
       "      <th>Rehire</th>\n",
       "      <td>0.121951</td>\n",
       "      <td>0.076072</td>\n",
       "      <td>0.166667</td>\n",
       "      <td>0.072359</td>\n",
       "    </tr>\n",
       "    <tr>\n",
       "      <th>Tenure_years</th>\n",
       "      <td>4.295122</td>\n",
       "      <td>3.825485</td>\n",
       "      <td>9.141667</td>\n",
       "      <td>7.198780</td>\n",
       "    </tr>\n",
       "    <tr>\n",
       "      <th>TimeLastPos</th>\n",
       "      <td>1039.536585</td>\n",
       "      <td>790.369300</td>\n",
       "      <td>1981.833333</td>\n",
       "      <td>1389.556530</td>\n",
       "    </tr>\n",
       "    <tr>\n",
       "      <th>performance(standard units)</th>\n",
       "      <td>3.482760</td>\n",
       "      <td>0.195670</td>\n",
       "      <td>3.482760</td>\n",
       "      <td>-0.144087</td>\n",
       "    </tr>\n",
       "  </tbody>\n",
       "</table>\n",
       "</div>"
      ],
      "text/plain": [
       "Performance cluster          left : Above Average  left : Average or Below  \\\n",
       "Annual Income                         2080.121951              1989.073815   \n",
       "LastRating                               4.000000                 2.079870   \n",
       "Rehire                                   0.121951                 0.076072   \n",
       "Tenure_years                             4.295122                 3.825485   \n",
       "TimeLastPos                           1039.536585               790.369300   \n",
       "performance(standard units)              3.482760                 0.195670   \n",
       "\n",
       "Performance cluster          stayed : Above Average  stayed : Average or Below  \n",
       "Annual Income                           1311.500000                2410.692476  \n",
       "LastRating                                 4.000000                   1.881403  \n",
       "Rehire                                     0.166667                   0.072359  \n",
       "Tenure_years                               9.141667                   7.198780  \n",
       "TimeLastPos                             1981.833333                1389.556530  \n",
       "performance(standard units)                3.482760                  -0.144087  "
      ]
     },
     "execution_count": 103,
     "metadata": {},
     "output_type": "execute_result"
    }
   ],
   "source": [
    "#Next we'll take a look at the average values for numerical columns in our data as an initial look into the potential problem.\n",
    "columns = (attrition_df.columns)\n",
    "num_columns = (attrition_df._get_numeric_data().columns)\n",
    "\n",
    "sep_hr_data = attrition_df\n",
    "sep_hr_data['Performance cluster'] = sep_hr_data['left(as_string)'] + ' : ' + sep_hr_data['performance label']\n",
    "\n",
    "sep_hr_pivot = sep_hr_data.pivot_table(index= (['Performance cluster']), values =num_columns, aggfunc=np.mean)\n",
    "sep_hr_pivot.transpose()"
   ]
  },
  {
   "cell_type": "code",
   "execution_count": 104,
   "metadata": {
    "collapsed": false
   },
   "outputs": [
    {
     "data": {
      "text/plain": [
       "Index(['Terminated', 'Rehire', 'Department', 'Job Level', 'TimeLastPos',\n",
       "       'Has been promoted', 'LastRating', 'Client work travel', 'Education',\n",
       "       'Gender', 'Marital Status', 'Annual Income', 'Tenure_years',\n",
       "       'tenure_year_bucket', 'salary_bucket', 'performance(standard units)',\n",
       "       'performance label', 'left(as_string)', 'Performance cluster'],\n",
       "      dtype='object')"
      ]
     },
     "execution_count": 104,
     "metadata": {},
     "output_type": "execute_result"
    }
   ],
   "source": [
    "#Now select the attributes from the dataframe to be used in modelling attrition:\n",
    "attrition_df.columns"
   ]
  },
  {
   "cell_type": "code",
   "execution_count": 105,
   "metadata": {
    "collapsed": false
   },
   "outputs": [],
   "source": [
    "cols_to_keep = ['Rehire', 'Department', 'Job Level', 'Has been promoted',\n",
    "                'LastRating', 'Client work travel', 'Education','Gender', 'Marital Status',\n",
    "                'tenure_year_bucket', 'salary_bucket','Terminated']\n",
    "attrition_df = attrition_df[cols_to_keep]\n",
    "attrition_df_copy = attrition_df\n",
    "attrition_pred = attrition_df_copy[attrition_df_copy.Terminated == 0]\n",
    "label = attrition_df.pop('Terminated')"
   ]
  },
  {
   "cell_type": "code",
   "execution_count": 106,
   "metadata": {
    "collapsed": false
   },
   "outputs": [],
   "source": [
    "cols_categorical = ['Rehire', 'Department', 'Job Level', 'Has been promoted','Client work travel',\n",
    "                   'Education','Gender', 'Marital Status','tenure_year_bucket', 'salary_bucket']\n",
    "attrition_df_dummies = pd.get_dummies(attrition_df, columns=cols_categorical)\n",
    "attrition_df_dummies.isnull().any()\n",
    "attrition_df.head()\n",
    "from sklearn.model_selection import train_test_split\n",
    "data_train, data_test, label_train, label_test = train_test_split(attrition_df_dummies, label,\n",
    "                                                                     test_size = 0.2,\n",
    "                                                                     random_state = 42)\n",
    "label_train = np.array(label_train)\n",
    "label_test = np.array(label_test)"
   ]
  },
  {
   "cell_type": "code",
   "execution_count": 107,
   "metadata": {
    "collapsed": false
   },
   "outputs": [],
   "source": [
    "# Machine learning framework:\n",
    "from sklearn.pipeline import Pipeline\n",
    "# Preprocessing\n",
    "from sklearn.preprocessing import StandardScaler\n",
    "# Estimators\n",
    "from sklearn.linear_model import LogisticRegression\n",
    "from sklearn.tree import DecisionTreeClassifier,export_graphviz\n",
    "from sklearn.ensemble import RandomForestClassifier\n",
    "# Evaluation tools\n",
    "from sklearn.metrics import (\n",
    "    roc_auc_score, classification_report , accuracy_score , confusion_matrix\n",
    ")\n",
    "from sklearn.model_selection import (StratifiedShuffleSplit, cross_val_score,GridSearchCV, RandomizedSearchCV)\n",
    "\n",
    "def make_pipe(estimator):\n",
    "    '''Model pipeline'''\n",
    "    return Pipeline([\n",
    "        ('scaler', StandardScaler()), ('estimator', estimator)\n",
    "    ])\n",
    "\n",
    "\n",
    "def gridsearch(pipe, param_grid, **cv_params):\n",
    "    '''Grid or randomized search for selecting hyperparameters'''\n",
    "    n_hyperparams = sum(len(v) for v in param_grid.values())\n",
    "    if(n_hyperparams < 15):\n",
    "        gs = GridSearchCV(pipe, param_grid, **cv_params)\n",
    "    else:\n",
    "        gs = RandomizedSearchCV(\n",
    "            pipe, param_grid, **cv_params, n_iter=15\n",
    "        )\n",
    "    return gs\n",
    "\n",
    "\n",
    "class Classifier():\n",
    "    global metric\n",
    "    metric = dict(scoring='roc_auc')\n",
    "\n",
    "    def __init__(self):\n",
    "        pass\n",
    "\n",
    "    def assess(self, estimator, X, y, param_grid):\n",
    "        '''Performance assessments for selecting algorithms\n",
    "        Using 5x2 nested cross-validation'''\n",
    "        pipe = make_pipe(estimator)\n",
    "        # Inner loop: 2-fold CV for hyperparameter selection\n",
    "        gs = gridsearch(pipe, param_grid, cv=2, **metric)\n",
    "        # Outer loop: 5-fold CV for model training\n",
    "        scores = cross_val_score(gs, X, y, cv=5, **metric)\n",
    "        return (scores.mean(), scores.std())\n",
    "\n",
    "    def fit(self, estimator, X, y, param_grid):\n",
    "        '''Train selected model'''\n",
    "        pipe = make_pipe(estimator)\n",
    "        gs = gridsearch(pipe, param_grid, cv=5, **metric)\n",
    "        _ = gs.fit(X, y)\n",
    "        self.best_pipe_ = gs.best_estimator_\n",
    "        best_estimator = (\n",
    "            gs.best_estimator_.named_steps['estimator']\n",
    "        )\n",
    "        self.feature_importances_ = (\n",
    "            best_estimator.feature_importances_\n",
    "        )\n",
    "        self.best_params_ = gs.best_params_\n",
    "        self.score_ = gs.best_score_\n",
    "        return None\n",
    "\n",
    "    def predict(self, X):\n",
    "        '''Make predictions for new data'''\n",
    "        return self.best_pipe_.predict(X)\n",
    "    \n",
    "    def predict_prob(self,X):\n",
    "        ''' Give probabilities of the event happening'''\n",
    "        return self.best_pipe_.predict_proba(X)"
   ]
  },
  {
   "cell_type": "code",
   "execution_count": 108,
   "metadata": {
    "collapsed": false
   },
   "outputs": [],
   "source": [
    "#Model evaluation\n",
    "\n",
    "# Hyperparameters common for all models under evaluations\n",
    "param_common = dict(random_state=42, class_weight='balanced')\n",
    "\n",
    "# Dataframe for score keeping\n",
    "model_list = ['Logistic regression', 'Decision tree', 'Random forest']\n",
    "metric_list = ['auc_mean', 'auc_std', 'runtime (s)']\n",
    "df_score_eval = pd.DataFrame(columns=model_list, index=metric_list)\n",
    "#df_score_eval.head()"
   ]
  },
  {
   "cell_type": "code",
   "execution_count": 109,
   "metadata": {
    "collapsed": false
   },
   "outputs": [
    {
     "data": {
      "text/html": [
       "<div>\n",
       "<table border=\"1\" class=\"dataframe\">\n",
       "  <thead>\n",
       "    <tr style=\"text-align: right;\">\n",
       "      <th></th>\n",
       "      <th>Logistic regression</th>\n",
       "      <th>Decision tree</th>\n",
       "      <th>Random forest</th>\n",
       "    </tr>\n",
       "  </thead>\n",
       "  <tbody>\n",
       "    <tr>\n",
       "      <th>auc_mean</th>\n",
       "      <td>NaN</td>\n",
       "      <td>0.864559</td>\n",
       "      <td>NaN</td>\n",
       "    </tr>\n",
       "    <tr>\n",
       "      <th>auc_std</th>\n",
       "      <td>NaN</td>\n",
       "      <td>0.004517</td>\n",
       "      <td>NaN</td>\n",
       "    </tr>\n",
       "    <tr>\n",
       "      <th>runtime (s)</th>\n",
       "      <td>NaN</td>\n",
       "      <td>3.779452</td>\n",
       "      <td>NaN</td>\n",
       "    </tr>\n",
       "  </tbody>\n",
       "</table>\n",
       "</div>"
      ],
      "text/plain": [
       "            Logistic regression  Decision tree Random forest\n",
       "auc_mean                    NaN       0.864559           NaN\n",
       "auc_std                     NaN       0.004517           NaN\n",
       "runtime (s)                 NaN       3.779452           NaN"
      ]
     },
     "execution_count": 109,
     "metadata": {},
     "output_type": "execute_result"
    }
   ],
   "source": [
    "model_id = model_list[1]\n",
    "\n",
    "# Modeling\n",
    "tree = DecisionTreeClassifier(**param_common)\n",
    "param_grid = {\n",
    "    'estimator__max_depth': [None] + list(range(1, 11)),\n",
    "    'estimator__min_samples_leaf': np.arange(1, 10)\n",
    "}\n",
    "model = Classifier()\n",
    "t_start = time.time()\n",
    "auc_mean, auc_std = model.assess(tree, data_train, label_train, param_grid)\n",
    "t_elapsed = time.time() - t_start\n",
    "\n",
    "# Keep score\n",
    "df_score_eval[model_id] = (auc_mean, auc_std, t_elapsed)\n",
    "df_score_eval.head()"
   ]
  },
  {
   "cell_type": "code",
   "execution_count": 110,
   "metadata": {
    "collapsed": false
   },
   "outputs": [
    {
     "data": {
      "text/html": [
       "<div>\n",
       "<table border=\"1\" class=\"dataframe\">\n",
       "  <thead>\n",
       "    <tr style=\"text-align: right;\">\n",
       "      <th></th>\n",
       "      <th>Logistic regression</th>\n",
       "      <th>Decision tree</th>\n",
       "      <th>Random forest</th>\n",
       "    </tr>\n",
       "  </thead>\n",
       "  <tbody>\n",
       "    <tr>\n",
       "      <th>auc_mean</th>\n",
       "      <td>0.856532</td>\n",
       "      <td>0.864559</td>\n",
       "      <td>NaN</td>\n",
       "    </tr>\n",
       "    <tr>\n",
       "      <th>auc_std</th>\n",
       "      <td>0.008931</td>\n",
       "      <td>0.004517</td>\n",
       "      <td>NaN</td>\n",
       "    </tr>\n",
       "    <tr>\n",
       "      <th>runtime (s)</th>\n",
       "      <td>25.970387</td>\n",
       "      <td>3.779452</td>\n",
       "      <td>NaN</td>\n",
       "    </tr>\n",
       "  </tbody>\n",
       "</table>\n",
       "</div>"
      ],
      "text/plain": [
       "             Logistic regression  Decision tree Random forest\n",
       "auc_mean                0.856532       0.864559           NaN\n",
       "auc_std                 0.008931       0.004517           NaN\n",
       "runtime (s)            25.970387       3.779452           NaN"
      ]
     },
     "execution_count": 110,
     "metadata": {},
     "output_type": "execute_result"
    }
   ],
   "source": [
    "model_id = model_list[0]\n",
    "import time\n",
    "# Modeling : Logistic Regression.\n",
    "lr = LogisticRegression(**param_common, n_jobs=-1)\n",
    "param_grid = {\n",
    "    'estimator__penalty': ['l1', 'l2'],\n",
    "    'estimator__C': np.logspace(-5, 5, 11),\n",
    "    'estimator__fit_intercept': [True, False]\n",
    "}\n",
    "model = Classifier()   #data_train, data_test, label_train, label_test\n",
    "t_start = time.time()\n",
    "auc_mean, auc_std = model.assess(lr, data_train, label_train, param_grid)\n",
    "t_elapsed = time.time() - t_start\n",
    "\n",
    "# Keep score\n",
    "df_score_eval[model_id] = (auc_mean, auc_std, t_elapsed)\n",
    "df_score_eval.head()"
   ]
  },
  {
   "cell_type": "code",
   "execution_count": 111,
   "metadata": {
    "collapsed": false
   },
   "outputs": [
    {
     "data": {
      "text/html": [
       "<div>\n",
       "<table border=\"1\" class=\"dataframe\">\n",
       "  <thead>\n",
       "    <tr style=\"text-align: right;\">\n",
       "      <th></th>\n",
       "      <th>Logistic regression</th>\n",
       "      <th>Decision tree</th>\n",
       "      <th>Random forest</th>\n",
       "    </tr>\n",
       "  </thead>\n",
       "  <tbody>\n",
       "    <tr>\n",
       "      <th>auc_mean</th>\n",
       "      <td>0.856532</td>\n",
       "      <td>0.864559</td>\n",
       "      <td>0.871852</td>\n",
       "    </tr>\n",
       "    <tr>\n",
       "      <th>auc_std</th>\n",
       "      <td>0.008931</td>\n",
       "      <td>0.004517</td>\n",
       "      <td>0.006343</td>\n",
       "    </tr>\n",
       "    <tr>\n",
       "      <th>runtime (s)</th>\n",
       "      <td>25.970387</td>\n",
       "      <td>3.779452</td>\n",
       "      <td>69.326927</td>\n",
       "    </tr>\n",
       "  </tbody>\n",
       "</table>\n",
       "</div>"
      ],
      "text/plain": [
       "             Logistic regression  Decision tree  Random forest\n",
       "auc_mean                0.856532       0.864559       0.871852\n",
       "auc_std                 0.008931       0.004517       0.006343\n",
       "runtime (s)            25.970387       3.779452      69.326927"
      ]
     },
     "execution_count": 111,
     "metadata": {},
     "output_type": "execute_result"
    }
   ],
   "source": [
    "model_id = model_list[2]\n",
    "\n",
    "# Modeling\n",
    "forest = RandomForestClassifier(**param_common, n_jobs=-1)\n",
    "param_grid = {\n",
    "    'estimator__n_estimators': np.arange(10, 100, 10),\n",
    "    'estimator__max_depth': [None] + list(range(1, 11)),\n",
    "    'estimator__min_samples_leaf': np.arange(1, 10)\n",
    "}\n",
    "model = Classifier()\n",
    "t_start = time.time()\n",
    "auc_mean, auc_std = model.assess(forest, data_train, label_train, param_grid)\n",
    "t_elapsed = time.time() - t_start\n",
    "\n",
    "# Keep score\n",
    "df_score_eval[model_id] = (auc_mean, auc_std, t_elapsed)\n",
    "df_score_eval.head()"
   ]
  },
  {
   "cell_type": "code",
   "execution_count": 112,
   "metadata": {
    "collapsed": false
   },
   "outputs": [
    {
     "data": {
      "text/html": [
       "<div>\n",
       "<table border=\"1\" class=\"dataframe\">\n",
       "  <thead>\n",
       "    <tr style=\"text-align: right;\">\n",
       "      <th></th>\n",
       "      <th>Logistic regression</th>\n",
       "      <th>Decision tree</th>\n",
       "      <th>Random forest</th>\n",
       "    </tr>\n",
       "  </thead>\n",
       "  <tbody>\n",
       "    <tr>\n",
       "      <th>auc_mean</th>\n",
       "      <td>0.856532</td>\n",
       "      <td>0.864559</td>\n",
       "      <td>0.871852</td>\n",
       "    </tr>\n",
       "    <tr>\n",
       "      <th>auc_std</th>\n",
       "      <td>0.008931</td>\n",
       "      <td>0.004517</td>\n",
       "      <td>0.006343</td>\n",
       "    </tr>\n",
       "    <tr>\n",
       "      <th>runtime (s)</th>\n",
       "      <td>25.970387</td>\n",
       "      <td>3.779452</td>\n",
       "      <td>69.326927</td>\n",
       "    </tr>\n",
       "  </tbody>\n",
       "</table>\n",
       "</div>"
      ],
      "text/plain": [
       "             Logistic regression  Decision tree  Random forest\n",
       "auc_mean                0.856532       0.864559       0.871852\n",
       "auc_std                 0.008931       0.004517       0.006343\n",
       "runtime (s)            25.970387       3.779452      69.326927"
      ]
     },
     "execution_count": 112,
     "metadata": {},
     "output_type": "execute_result"
    }
   ],
   "source": [
    "df_score_eval.head()"
   ]
  },
  {
   "cell_type": "markdown",
   "metadata": {},
   "source": [
    "Train and evaluate the selected model. We focus on Decision Trees as it has AUC comparable to RF and also it's \n",
    "AUC_STD is lowest indicating low variance in predictions."
   ]
  },
  {
   "cell_type": "code",
   "execution_count": 113,
   "metadata": {
    "collapsed": false
   },
   "outputs": [],
   "source": [
    "label_list = ['Use all features', 'Use above-mean features']\n",
    "metric_list = ['auc', 'runtime (s)']\n",
    "df_score_train = pd.DataFrame(columns=label_list, index=metric_list)\n",
    "#df_score_train.head()"
   ]
  },
  {
   "cell_type": "code",
   "execution_count": 114,
   "metadata": {
    "collapsed": false
   },
   "outputs": [
    {
     "name": "stdout",
     "output_type": "stream",
     "text": [
      "Selected hyperparameters are:\n",
      "{'estimator__min_samples_leaf': 9, 'estimator__max_depth': None, 'estimator__n_estimators': 40}\n"
     ]
    }
   ],
   "source": [
    "#Train model:\n",
    "label = label_list[0]\n",
    "model = Classifier()\n",
    "t_start = time.time()\n",
    "model.fit(forest, data_train, label_train, param_grid)\n",
    "t_elapsed = time.time() - t_start\n",
    "\n",
    "# Check selected hyperparameters\n",
    "print('Selected hyperparameters are:'+\n",
    "      '\\n{param}'.format(param=model.best_params_)\n",
    "     )\n",
    "\n",
    "# Keep score\n",
    "df_score_train[label] = (model.score_, t_elapsed)\n",
    "df_score_train.head()\n",
    "\n",
    "# Save and rank feature importances\n",
    "features = list(data_train.iloc[:, 0:].columns)\n",
    "ranking_features = pd.Series(model.feature_importances_, index=features)\n",
    "ranking_features = ranking_features.sort_values(ascending=False)\n",
    "\n",
    "# Separate important and unimportant features using mean importance\n",
    "index_num = np.arange(len(ranking_features))\n",
    "filter_above_mean = ranking_features >= ranking_features.mean()\n",
    "filter_below_mean = ranking_features < ranking_features.mean()\n",
    "index_above_mean = index_num[filter_above_mean]\n",
    "index_below_mean = index_num[filter_below_mean]"
   ]
  },
  {
   "cell_type": "code",
   "execution_count": 115,
   "metadata": {
    "collapsed": false
   },
   "outputs": [
    {
     "name": "stdout",
     "output_type": "stream",
     "text": [
      "AUC of test set = 0.7559\n"
     ]
    }
   ],
   "source": [
    "features_above_mean = ranking_features.index[filter_above_mean]\n",
    "cols_selected = list(features_above_mean)\n",
    "\n",
    "data_train = data_train[cols_selected]\n",
    "data_test = data_test[cols_selected]\n",
    "\n",
    "label = label_list[1]\n",
    "\n",
    "# Train model\n",
    "model = Classifier()\n",
    "t_start = time.time()\n",
    "model.fit(forest, data_train, label_train, param_grid)\n",
    "t_elapsed = time.time() - t_start\n",
    "\n",
    "# Keep score\n",
    "df_score_train[label] = (model.score_, t_elapsed)\n",
    "df_score_train.head()\n",
    "\n",
    "y_pred = model.predict(data_test)\n",
    "\n",
    "# Check AUC score:\n",
    "auc_test = roc_auc_score(y_pred, label_test)\n",
    "print('AUC of test set = {auc:.4f}'.format(auc=auc_test))"
   ]
  },
  {
   "cell_type": "code",
   "execution_count": 116,
   "metadata": {
    "collapsed": false
   },
   "outputs": [
    {
     "name": "stdout",
     "output_type": "stream",
     "text": [
      "             precision    recall  f1-score   support\n",
      "\n",
      "          0       0.83      0.77      0.80      1432\n",
      "          1       0.68      0.75      0.72       924\n",
      "\n",
      "avg / total       0.77      0.77      0.77      2356\n",
      "\n",
      "0.765704584041\n"
     ]
    }
   ],
   "source": [
    "print (classification_report(label_test, y_pred))\n",
    "print (accuracy_score(label_test,y_pred))"
   ]
  },
  {
   "cell_type": "code",
   "execution_count": 117,
   "metadata": {
    "collapsed": false
   },
   "outputs": [],
   "source": [
    "def show_confusion_matrix(C,class_labels=['0','1']):\n",
    "    \"\"\"\n",
    "    C: ndarray, shape (2,2) as given by scikit-learn confusion_matrix function\n",
    "    class_labels: list of strings, default simply labels 0 and 1.\n",
    "\n",
    "    Draws confusion matrix with associated metrics.\n",
    "    \"\"\"\n",
    "    assert C.shape == (2,2), \"Confusion matrix should be from binary classification only.\"\n",
    "    \n",
    "    # true negative, false positive, etc...\n",
    "    tn = C[0,0]; fp = C[0,1]; fn = C[1,0]; tp = C[1,1];\n",
    "\n",
    "    NP = fn+tp # Num positive examples\n",
    "    NN = tn+fp # Num negative examples\n",
    "    N  = NP+NN\n",
    "\n",
    "    fig = plt.figure(figsize=(8,8))\n",
    "    ax  = fig.add_subplot(111)\n",
    "    ax.imshow(C, interpolation='nearest', cmap=plt.cm.gray)\n",
    "\n",
    "    # Draw the grid boxes\n",
    "    ax.set_xlim(-0.5,2.5)\n",
    "    ax.set_ylim(2.5,-0.5)\n",
    "    ax.plot([-0.5,2.5],[0.5,0.5], '-k', lw=2)\n",
    "    ax.plot([-0.5,2.5],[1.5,1.5], '-k', lw=2)\n",
    "    ax.plot([0.5,0.5],[-0.5,2.5], '-k', lw=2)\n",
    "    ax.plot([1.5,1.5],[-0.5,2.5], '-k', lw=2)\n",
    "\n",
    "    # Set xlabels\n",
    "    ax.set_xlabel('Predicted Label', fontsize=16)\n",
    "    ax.set_xticks([0,1,2])\n",
    "    ax.set_xticklabels(class_labels + [''])\n",
    "    ax.xaxis.set_label_position('top')\n",
    "    ax.xaxis.tick_top()\n",
    "    # These coordinate might require some tinkering. Ditto for y, below.\n",
    "    ax.xaxis.set_label_coords(0.34,1.06)\n",
    "\n",
    "    # Set ylabels\n",
    "    ax.set_ylabel('True Label', fontsize=16, rotation=90)\n",
    "    ax.set_yticklabels(class_labels + [''],rotation=90)\n",
    "    ax.set_yticks([0,1,2])\n",
    "    ax.yaxis.set_label_coords(-0.09,0.65)\n",
    "\n",
    "\n",
    "    # Fill in initial metrics: tp, tn, etc...\n",
    "    ax.text(0,0,\n",
    "            'True Neg: %d\\n(Num Neg: %d)'%(tn,NN),\n",
    "            va='center',\n",
    "            ha='center',\n",
    "            bbox=dict(fc='w',boxstyle='round,pad=1'))\n",
    "\n",
    "    ax.text(0,1,\n",
    "            'False Neg: %d'%fn,\n",
    "            va='center',\n",
    "            ha='center',\n",
    "            bbox=dict(fc='w',boxstyle='round,pad=1'))\n",
    "\n",
    "    ax.text(1,0,\n",
    "            'False Pos: %d'%fp,\n",
    "            va='center',\n",
    "            ha='center',\n",
    "            bbox=dict(fc='w',boxstyle='round,pad=1'))\n",
    "\n",
    "\n",
    "    ax.text(1,1,\n",
    "            'True Pos: %d\\n(Num Pos: %d)'%(tp,NP),\n",
    "            va='center',\n",
    "            ha='center',\n",
    "            bbox=dict(fc='w',boxstyle='round,pad=1'))\n",
    "\n",
    "    # Fill in secondary metrics: accuracy, true pos rate, etc...\n",
    "    ax.text(2,0,\n",
    "            'False Pos Rate: %.2f'%(fp / (fp+tn+0.)),\n",
    "            va='center',\n",
    "            ha='center',\n",
    "            bbox=dict(fc='w',boxstyle='round,pad=1'))\n",
    "\n",
    "    ax.text(2,1,\n",
    "            'True Pos Rate: %.2f'%(tp / (tp+fn+0.)),\n",
    "            va='center',\n",
    "            ha='center',\n",
    "            bbox=dict(fc='w',boxstyle='round,pad=1'))\n",
    "\n",
    "    ax.text(2,2,\n",
    "            'Accuracy: %.2f'%((tp+tn+0.)/N),\n",
    "            va='center',\n",
    "            ha='center',\n",
    "            bbox=dict(fc='w',boxstyle='round,pad=1'))\n",
    "\n",
    "    ax.text(0,2,\n",
    "            'Neg Pre Val: %.2f'%(1-fn/(fn+tn+0.)),\n",
    "            va='center',\n",
    "            ha='center',\n",
    "            bbox=dict(fc='w',boxstyle='round,pad=1'))\n",
    "\n",
    "    ax.text(1,2,\n",
    "            'Pos Pred Val: %.2f'%(tp/(tp+fp+0.)),\n",
    "            va='center',\n",
    "            ha='center',\n",
    "            bbox=dict(fc='w',boxstyle='round,pad=1'))\n",
    "\n",
    "\n",
    "    plt.tight_layout()\n",
    "    plt.show()"
   ]
  },
  {
   "cell_type": "code",
   "execution_count": 118,
   "metadata": {
    "collapsed": false
   },
   "outputs": [
    {
     "data": {
      "image/png": "[encoded data removed]",
      "text/plain": [
       "<matplotlib.figure.Figure at 0x7f5fe45617b8>"
      ]
     },
     "metadata": {},
     "output_type": "display_data"
    }
   ],
   "source": [
    "C = confusion_matrix(label_test,y_pred)\n",
    "show_confusion_matrix(C,['Stayed', 'Left'])"
   ]
  },
  {
   "cell_type": "code",
   "execution_count": 119,
   "metadata": {
    "collapsed": false
   },
   "outputs": [],
   "source": [
    "features_above_mean = ranking_features.index[filter_above_mean]\n",
    "cols_selected = list(features_above_mean)\n",
    "\n",
    "data_train = data_train[cols_selected]\n",
    "data_test = data_test[cols_selected]\n",
    "\n",
    "model_id = model_list[1]\n",
    "decision_tree = DecisionTreeClassifier(**param_common)\n",
    "param_grid = {\n",
    "    'estimator__max_depth': [None] + list(range(1, 11)),\n",
    "    'estimator__min_samples_leaf': np.arange(1, 10)\n",
    "}\n",
    "model = Classifier()\n",
    "\n",
    "model.fit(decision_tree, data_train, label_train, param_grid)\n",
    "y_pred = model.predict(data_test)"
   ]
  },
  {
   "cell_type": "code",
   "execution_count": 120,
   "metadata": {
    "collapsed": false
   },
   "outputs": [
    {
     "name": "stdout",
     "output_type": "stream",
     "text": [
      "AUC of test set = 0.7564\n",
      "             precision    recall  f1-score   support\n",
      "\n",
      "          0       0.83      0.77      0.80      1432\n",
      "          1       0.68      0.76      0.72       924\n",
      "\n",
      "avg / total       0.77      0.77      0.77      2356\n",
      "\n",
      "0.766129032258\n"
     ]
    }
   ],
   "source": [
    "auc_test = roc_auc_score(y_pred, label_test)\n",
    "print ('AUC of test set = {auc:.4f}'.format(auc=auc_test))\n",
    "# Check full classification report\n",
    "print (classification_report(label_test, y_pred))\n",
    "print (accuracy_score(label_test,y_pred))"
   ]
  },
  {
   "cell_type": "raw",
   "metadata": {},
   "source": [
    "C = confusion_matrix(label_test,y_pred)\n",
    "show_confusion_matrix(C,['Stayed', 'Left'])"
   ]
  },
  {
   "cell_type": "code",
   "execution_count": 121,
   "metadata": {
    "collapsed": false
   },
   "outputs": [
    {
     "data": {
      "text/plain": [
       "DecisionTreeClassifier(class_weight=None, criterion='gini', max_depth=10,\n",
       "            max_features=None, max_leaf_nodes=None,\n",
       "            min_impurity_split=1e-07, min_samples_leaf=7,\n",
       "            min_samples_split=2, min_weight_fraction_leaf=0.0,\n",
       "            presort=False, random_state=None, splitter='best')"
      ]
     },
     "execution_count": 121,
     "metadata": {},
     "output_type": "execute_result"
    }
   ],
   "source": [
    "# Now lets get the best parameters of the decision tree and build a Decision Tree:\n",
    "attrition_classifier = DecisionTreeClassifier(max_depth = 10,min_samples_leaf = 7)\n",
    "attrition_classifier.fit(data_train, label_train)"
   ]
  },
  {
   "cell_type": "code",
   "execution_count": 122,
   "metadata": {
    "collapsed": false
   },
   "outputs": [],
   "source": [
    "# Predict who is at low, medium , high risk of leaving, for this we will take only those records where Terminated = 0\n",
    "# and assign probabilites to the records.\n",
    "cols_categorical = ['Rehire', 'Department', 'Job Level', 'Has been promoted','Client work travel',\n",
    "                  'Education','Gender', 'Marital Status','tenure_year_bucket', 'salary_bucket']\n",
    "df_dummies = pd.get_dummies(attrition_pred, columns=cols_categorical)\n",
    "label = attrition_pred.pop('Terminated')\n",
    "data_pred = df_dummies[cols_selected]\n",
    "#data_pred.head()"
   ]
  },
  {
   "cell_type": "code",
   "execution_count": 123,
   "metadata": {
    "collapsed": false
   },
   "outputs": [],
   "source": [
    "y_pred = attrition_classifier.predict(data_pred)\n",
    "y_pred_prob = attrition_classifier.predict_proba(data_pred)"
   ]
  },
  {
   "cell_type": "code",
   "execution_count": 124,
   "metadata": {
    "collapsed": false
   },
   "outputs": [
    {
     "data": {
      "text/plain": [
       "array([ 0.24390244,  0.81651376,  0.67966574, ...,  0.04051565,\n",
       "        0.04051565,  0.        ])"
      ]
     },
     "execution_count": 124,
     "metadata": {},
     "output_type": "execute_result"
    }
   ],
   "source": [
    "y_pred_prob[:,1]\n",
    "#y_pred_prob.apply(lambda x: ' '.join(x), axis=1)"
   ]
  },
  {
   "cell_type": "code",
   "execution_count": 125,
   "metadata": {
    "collapsed": false
   },
   "outputs": [
    {
     "data": {
      "text/html": [
       "<div>\n",
       "<table border=\"1\" class=\"dataframe\">\n",
       "  <thead>\n",
       "    <tr style=\"text-align: right;\">\n",
       "      <th></th>\n",
       "      <th>Has been promoted_No</th>\n",
       "      <th>Has been promoted_Yes</th>\n",
       "      <th>LastRating</th>\n",
       "      <th>tenure_year_bucket_3-5</th>\n",
       "      <th>tenure_year_bucket_+20</th>\n",
       "      <th>Department_Audit</th>\n",
       "      <th>tenure_year_bucket_15-20</th>\n",
       "      <th>salary_bucket_High</th>\n",
       "      <th>tenure_year_bucket_10-15</th>\n",
       "      <th>tenure_year_bucket_0-3</th>\n",
       "      <th>risk_x</th>\n",
       "      <th>risk_y</th>\n",
       "    </tr>\n",
       "  </thead>\n",
       "  <tbody>\n",
       "    <tr>\n",
       "      <th>4</th>\n",
       "      <td>0.0</td>\n",
       "      <td>1.0</td>\n",
       "      <td>2.0</td>\n",
       "      <td>1.0</td>\n",
       "      <td>0.0</td>\n",
       "      <td>0.0</td>\n",
       "      <td>0.0</td>\n",
       "      <td>1.0</td>\n",
       "      <td>0.0</td>\n",
       "      <td>0.0</td>\n",
       "      <td>0.243902</td>\n",
       "      <td>0.243902</td>\n",
       "    </tr>\n",
       "    <tr>\n",
       "      <th>11</th>\n",
       "      <td>0.0</td>\n",
       "      <td>1.0</td>\n",
       "      <td>3.0</td>\n",
       "      <td>1.0</td>\n",
       "      <td>0.0</td>\n",
       "      <td>1.0</td>\n",
       "      <td>0.0</td>\n",
       "      <td>0.0</td>\n",
       "      <td>0.0</td>\n",
       "      <td>0.0</td>\n",
       "      <td>0.816514</td>\n",
       "      <td>0.816514</td>\n",
       "    </tr>\n",
       "    <tr>\n",
       "      <th>12</th>\n",
       "      <td>0.0</td>\n",
       "      <td>1.0</td>\n",
       "      <td>2.0</td>\n",
       "      <td>1.0</td>\n",
       "      <td>0.0</td>\n",
       "      <td>1.0</td>\n",
       "      <td>0.0</td>\n",
       "      <td>0.0</td>\n",
       "      <td>0.0</td>\n",
       "      <td>0.0</td>\n",
       "      <td>0.679666</td>\n",
       "      <td>0.679666</td>\n",
       "    </tr>\n",
       "    <tr>\n",
       "      <th>13</th>\n",
       "      <td>0.0</td>\n",
       "      <td>1.0</td>\n",
       "      <td>2.0</td>\n",
       "      <td>0.0</td>\n",
       "      <td>1.0</td>\n",
       "      <td>0.0</td>\n",
       "      <td>0.0</td>\n",
       "      <td>0.0</td>\n",
       "      <td>0.0</td>\n",
       "      <td>0.0</td>\n",
       "      <td>0.012195</td>\n",
       "      <td>0.012195</td>\n",
       "    </tr>\n",
       "    <tr>\n",
       "      <th>18</th>\n",
       "      <td>0.0</td>\n",
       "      <td>1.0</td>\n",
       "      <td>2.0</td>\n",
       "      <td>0.0</td>\n",
       "      <td>0.0</td>\n",
       "      <td>0.0</td>\n",
       "      <td>0.0</td>\n",
       "      <td>0.0</td>\n",
       "      <td>0.0</td>\n",
       "      <td>0.0</td>\n",
       "      <td>0.353612</td>\n",
       "      <td>0.353612</td>\n",
       "    </tr>\n",
       "  </tbody>\n",
       "</table>\n",
       "</div>"
      ],
      "text/plain": [
       "    Has been promoted_No  Has been promoted_Yes  LastRating  \\\n",
       "4                    0.0                    1.0         2.0   \n",
       "11                   0.0                    1.0         3.0   \n",
       "12                   0.0                    1.0         2.0   \n",
       "13                   0.0                    1.0         2.0   \n",
       "18                   0.0                    1.0         2.0   \n",
       "\n",
       "    tenure_year_bucket_3-5  tenure_year_bucket_+20  Department_Audit  \\\n",
       "4                      1.0                     0.0               0.0   \n",
       "11                     1.0                     0.0               1.0   \n",
       "12                     1.0                     0.0               1.0   \n",
       "13                     0.0                     1.0               0.0   \n",
       "18                     0.0                     0.0               0.0   \n",
       "\n",
       "    tenure_year_bucket_15-20  salary_bucket_High  tenure_year_bucket_10-15  \\\n",
       "4                        0.0                 1.0                       0.0   \n",
       "11                       0.0                 0.0                       0.0   \n",
       "12                       0.0                 0.0                       0.0   \n",
       "13                       0.0                 0.0                       0.0   \n",
       "18                       0.0                 0.0                       0.0   \n",
       "\n",
       "    tenure_year_bucket_0-3    risk_x    risk_y  \n",
       "4                      0.0  0.243902  0.243902  \n",
       "11                     0.0  0.816514  0.816514  \n",
       "12                     0.0  0.679666  0.679666  \n",
       "13                     0.0  0.012195  0.012195  \n",
       "18                     0.0  0.353612  0.353612  "
      ]
     },
     "execution_count": 125,
     "metadata": {},
     "output_type": "execute_result"
    }
   ],
   "source": [
    "#Append these to the records :\n",
    "data_pred['risk'] = y_pred_prob[:,1]\n",
    "df_out = pd.merge(data_pred,data_pred[['risk']],how = 'left',left_index = True, right_index = True)\n",
    "df_out.head()"
   ]
  },
  {
   "cell_type": "code",
   "execution_count": 126,
   "metadata": {
    "collapsed": false
   },
   "outputs": [
    {
     "data": {
      "text/plain": [
       "<matplotlib.axes._subplots.AxesSubplot at 0x7f5fc7c43e48>"
      ]
     },
     "execution_count": 126,
     "metadata": {},
     "output_type": "execute_result"
    },
    {
     "data": {
      "image/png": "[encoded data removed]",
      "text/plain": [
       "<matplotlib.figure.Figure at 0x7f5fc7c436a0>"
      ]
     },
     "metadata": {},
     "output_type": "display_data"
    }
   ],
   "source": [
    "sns.distplot(df_out.risk_x)"
   ]
  },
  {
   "cell_type": "code",
   "execution_count": 127,
   "metadata": {
    "collapsed": false
   },
   "outputs": [],
   "source": [
    "#Map risk profile to dataset:\n",
    "def risk_level(row):\n",
    "    risk = row['risk_x']\n",
    "    if risk >= 0.0 and risk < 0.20:\n",
    "        risk_profile = 'Low'\n",
    "    elif risk >= 0.20 and risk < 0.40:\n",
    "        risk_profile = 'Medium'\n",
    "    elif risk >= 0.40:\n",
    "        risk_profile = 'High'\n",
    "    return(risk_profile)"
   ]
  },
  {
   "cell_type": "code",
   "execution_count": 128,
   "metadata": {
    "collapsed": false
   },
   "outputs": [],
   "source": [
    "df_out['risk_profile'] = df_out.apply(risk_level, axis = 1)\n",
    "df_out['Terminated'] = label"
   ]
  },
  {
   "cell_type": "code",
   "execution_count": 129,
   "metadata": {
    "collapsed": false
   },
   "outputs": [
    {
     "data": {
      "text/html": [
       "<div>\n",
       "<table border=\"1\" class=\"dataframe\">\n",
       "  <thead>\n",
       "    <tr style=\"text-align: right;\">\n",
       "      <th></th>\n",
       "      <th>Has been promoted_No</th>\n",
       "      <th>Has been promoted_Yes</th>\n",
       "      <th>LastRating</th>\n",
       "      <th>tenure_year_bucket_3-5</th>\n",
       "      <th>tenure_year_bucket_+20</th>\n",
       "      <th>Department_Audit</th>\n",
       "      <th>tenure_year_bucket_15-20</th>\n",
       "      <th>salary_bucket_High</th>\n",
       "      <th>tenure_year_bucket_10-15</th>\n",
       "      <th>tenure_year_bucket_0-3</th>\n",
       "      <th>risk_x</th>\n",
       "      <th>risk_y</th>\n",
       "      <th>risk_profile</th>\n",
       "      <th>Terminated</th>\n",
       "    </tr>\n",
       "  </thead>\n",
       "  <tbody>\n",
       "    <tr>\n",
       "      <th>4</th>\n",
       "      <td>0.0</td>\n",
       "      <td>1.0</td>\n",
       "      <td>2.0</td>\n",
       "      <td>1.0</td>\n",
       "      <td>0.0</td>\n",
       "      <td>0.0</td>\n",
       "      <td>0.0</td>\n",
       "      <td>1.0</td>\n",
       "      <td>0.0</td>\n",
       "      <td>0.0</td>\n",
       "      <td>0.243902</td>\n",
       "      <td>0.243902</td>\n",
       "      <td>Medium</td>\n",
       "      <td>0</td>\n",
       "    </tr>\n",
       "    <tr>\n",
       "      <th>11</th>\n",
       "      <td>0.0</td>\n",
       "      <td>1.0</td>\n",
       "      <td>3.0</td>\n",
       "      <td>1.0</td>\n",
       "      <td>0.0</td>\n",
       "      <td>1.0</td>\n",
       "      <td>0.0</td>\n",
       "      <td>0.0</td>\n",
       "      <td>0.0</td>\n",
       "      <td>0.0</td>\n",
       "      <td>0.816514</td>\n",
       "      <td>0.816514</td>\n",
       "      <td>High</td>\n",
       "      <td>0</td>\n",
       "    </tr>\n",
       "    <tr>\n",
       "      <th>12</th>\n",
       "      <td>0.0</td>\n",
       "      <td>1.0</td>\n",
       "      <td>2.0</td>\n",
       "      <td>1.0</td>\n",
       "      <td>0.0</td>\n",
       "      <td>1.0</td>\n",
       "      <td>0.0</td>\n",
       "      <td>0.0</td>\n",
       "      <td>0.0</td>\n",
       "      <td>0.0</td>\n",
       "      <td>0.679666</td>\n",
       "      <td>0.679666</td>\n",
       "      <td>High</td>\n",
       "      <td>0</td>\n",
       "    </tr>\n",
       "    <tr>\n",
       "      <th>13</th>\n",
       "      <td>0.0</td>\n",
       "      <td>1.0</td>\n",
       "      <td>2.0</td>\n",
       "      <td>0.0</td>\n",
       "      <td>1.0</td>\n",
       "      <td>0.0</td>\n",
       "      <td>0.0</td>\n",
       "      <td>0.0</td>\n",
       "      <td>0.0</td>\n",
       "      <td>0.0</td>\n",
       "      <td>0.012195</td>\n",
       "      <td>0.012195</td>\n",
       "      <td>Low</td>\n",
       "      <td>0</td>\n",
       "    </tr>\n",
       "    <tr>\n",
       "      <th>18</th>\n",
       "      <td>0.0</td>\n",
       "      <td>1.0</td>\n",
       "      <td>2.0</td>\n",
       "      <td>0.0</td>\n",
       "      <td>0.0</td>\n",
       "      <td>0.0</td>\n",
       "      <td>0.0</td>\n",
       "      <td>0.0</td>\n",
       "      <td>0.0</td>\n",
       "      <td>0.0</td>\n",
       "      <td>0.353612</td>\n",
       "      <td>0.353612</td>\n",
       "      <td>Medium</td>\n",
       "      <td>0</td>\n",
       "    </tr>\n",
       "  </tbody>\n",
       "</table>\n",
       "</div>"
      ],
      "text/plain": [
       "    Has been promoted_No  Has been promoted_Yes  LastRating  \\\n",
       "4                    0.0                    1.0         2.0   \n",
       "11                   0.0                    1.0         3.0   \n",
       "12                   0.0                    1.0         2.0   \n",
       "13                   0.0                    1.0         2.0   \n",
       "18                   0.0                    1.0         2.0   \n",
       "\n",
       "    tenure_year_bucket_3-5  tenure_year_bucket_+20  Department_Audit  \\\n",
       "4                      1.0                     0.0               0.0   \n",
       "11                     1.0                     0.0               1.0   \n",
       "12                     1.0                     0.0               1.0   \n",
       "13                     0.0                     1.0               0.0   \n",
       "18                     0.0                     0.0               0.0   \n",
       "\n",
       "    tenure_year_bucket_15-20  salary_bucket_High  tenure_year_bucket_10-15  \\\n",
       "4                        0.0                 1.0                       0.0   \n",
       "11                       0.0                 0.0                       0.0   \n",
       "12                       0.0                 0.0                       0.0   \n",
       "13                       0.0                 0.0                       0.0   \n",
       "18                       0.0                 0.0                       0.0   \n",
       "\n",
       "    tenure_year_bucket_0-3    risk_x    risk_y risk_profile Terminated  \n",
       "4                      0.0  0.243902  0.243902       Medium          0  \n",
       "11                     0.0  0.816514  0.816514         High          0  \n",
       "12                     0.0  0.679666  0.679666         High          0  \n",
       "13                     0.0  0.012195  0.012195          Low          0  \n",
       "18                     0.0  0.353612  0.353612       Medium          0  "
      ]
     },
     "execution_count": 129,
     "metadata": {},
     "output_type": "execute_result"
    }
   ],
   "source": [
    "df_out.head()"
   ]
  },
  {
   "cell_type": "code",
   "execution_count": 130,
   "metadata": {
    "collapsed": false
   },
   "outputs": [],
   "source": [
    "data_attr = pd.read_csv(data_folder + 'Attrition_Survival.csv',header = 0)\n",
    "exp_vars = pd.DataFrame(data_attr['Tenure'])\n",
    "target = pd.DataFrame(data_attr['Terminated'])\n",
    "from lifelines import KaplanMeierFitter\n",
    "kmf = KaplanMeierFitter()"
   ]
  },
  {
   "cell_type": "code",
   "execution_count": 131,
   "metadata": {
    "collapsed": false
   },
   "outputs": [
    {
     "data": {
      "text/html": [
       "<div>\n",
       "<table border=\"1\" class=\"dataframe\">\n",
       "  <thead>\n",
       "    <tr style=\"text-align: right;\">\n",
       "      <th></th>\n",
       "      <th>KM_estimate</th>\n",
       "    </tr>\n",
       "    <tr>\n",
       "      <th>timeline</th>\n",
       "      <th></th>\n",
       "    </tr>\n",
       "  </thead>\n",
       "  <tbody>\n",
       "    <tr>\n",
       "      <th>1.0</th>\n",
       "      <td>0.999894</td>\n",
       "    </tr>\n",
       "    <tr>\n",
       "      <th>2.0</th>\n",
       "      <td>0.999788</td>\n",
       "    </tr>\n",
       "    <tr>\n",
       "      <th>3.0</th>\n",
       "      <td>0.999682</td>\n",
       "    </tr>\n",
       "    <tr>\n",
       "      <th>5.0</th>\n",
       "      <td>0.998940</td>\n",
       "    </tr>\n",
       "    <tr>\n",
       "      <th>8.0</th>\n",
       "      <td>0.998834</td>\n",
       "    </tr>\n",
       "    <tr>\n",
       "      <th>9.0</th>\n",
       "      <td>0.998728</td>\n",
       "    </tr>\n",
       "    <tr>\n",
       "      <th>11.0</th>\n",
       "      <td>0.998622</td>\n",
       "    </tr>\n",
       "    <tr>\n",
       "      <th>12.0</th>\n",
       "      <td>0.998198</td>\n",
       "    </tr>\n",
       "    <tr>\n",
       "      <th>16.0</th>\n",
       "      <td>0.998092</td>\n",
       "    </tr>\n",
       "    <tr>\n",
       "      <th>17.0</th>\n",
       "      <td>0.997774</td>\n",
       "    </tr>\n",
       "    <tr>\n",
       "      <th>18.0</th>\n",
       "      <td>0.997668</td>\n",
       "    </tr>\n",
       "    <tr>\n",
       "      <th>19.0</th>\n",
       "      <td>0.997349</td>\n",
       "    </tr>\n",
       "    <tr>\n",
       "      <th>20.0</th>\n",
       "      <td>0.997243</td>\n",
       "    </tr>\n",
       "    <tr>\n",
       "      <th>22.0</th>\n",
       "      <td>0.996925</td>\n",
       "    </tr>\n",
       "    <tr>\n",
       "      <th>23.0</th>\n",
       "      <td>0.996819</td>\n",
       "    </tr>\n",
       "    <tr>\n",
       "      <th>25.0</th>\n",
       "      <td>0.996713</td>\n",
       "    </tr>\n",
       "    <tr>\n",
       "      <th>26.0</th>\n",
       "      <td>0.996183</td>\n",
       "    </tr>\n",
       "    <tr>\n",
       "      <th>30.0</th>\n",
       "      <td>0.996077</td>\n",
       "    </tr>\n",
       "    <tr>\n",
       "      <th>32.0</th>\n",
       "      <td>0.995971</td>\n",
       "    </tr>\n",
       "    <tr>\n",
       "      <th>33.0</th>\n",
       "      <td>0.995759</td>\n",
       "    </tr>\n",
       "    <tr>\n",
       "      <th>36.0</th>\n",
       "      <td>0.995653</td>\n",
       "    </tr>\n",
       "    <tr>\n",
       "      <th>37.0</th>\n",
       "      <td>0.995441</td>\n",
       "    </tr>\n",
       "    <tr>\n",
       "      <th>38.0</th>\n",
       "      <td>0.995229</td>\n",
       "    </tr>\n",
       "    <tr>\n",
       "      <th>39.0</th>\n",
       "      <td>0.994911</td>\n",
       "    </tr>\n",
       "    <tr>\n",
       "      <th>40.0</th>\n",
       "      <td>0.994699</td>\n",
       "    </tr>\n",
       "    <tr>\n",
       "      <th>43.0</th>\n",
       "      <td>0.994487</td>\n",
       "    </tr>\n",
       "    <tr>\n",
       "      <th>44.0</th>\n",
       "      <td>0.994169</td>\n",
       "    </tr>\n",
       "    <tr>\n",
       "      <th>45.0</th>\n",
       "      <td>0.994063</td>\n",
       "    </tr>\n",
       "    <tr>\n",
       "      <th>46.0</th>\n",
       "      <td>0.993851</td>\n",
       "    </tr>\n",
       "    <tr>\n",
       "      <th>47.0</th>\n",
       "      <td>0.993109</td>\n",
       "    </tr>\n",
       "    <tr>\n",
       "      <th>...</th>\n",
       "      <td>...</td>\n",
       "    </tr>\n",
       "    <tr>\n",
       "      <th>316.0</th>\n",
       "      <td>0.948838</td>\n",
       "    </tr>\n",
       "    <tr>\n",
       "      <th>317.0</th>\n",
       "      <td>0.948724</td>\n",
       "    </tr>\n",
       "    <tr>\n",
       "      <th>318.0</th>\n",
       "      <td>0.948610</td>\n",
       "    </tr>\n",
       "    <tr>\n",
       "      <th>319.0</th>\n",
       "      <td>0.948497</td>\n",
       "    </tr>\n",
       "    <tr>\n",
       "      <th>320.0</th>\n",
       "      <td>0.947928</td>\n",
       "    </tr>\n",
       "    <tr>\n",
       "      <th>321.0</th>\n",
       "      <td>0.947814</td>\n",
       "    </tr>\n",
       "    <tr>\n",
       "      <th>325.0</th>\n",
       "      <td>0.947700</td>\n",
       "    </tr>\n",
       "    <tr>\n",
       "      <th>326.0</th>\n",
       "      <td>0.947359</td>\n",
       "    </tr>\n",
       "    <tr>\n",
       "      <th>327.0</th>\n",
       "      <td>0.946903</td>\n",
       "    </tr>\n",
       "    <tr>\n",
       "      <th>330.0</th>\n",
       "      <td>0.946560</td>\n",
       "    </tr>\n",
       "    <tr>\n",
       "      <th>331.0</th>\n",
       "      <td>0.946217</td>\n",
       "    </tr>\n",
       "    <tr>\n",
       "      <th>333.0</th>\n",
       "      <td>0.945989</td>\n",
       "    </tr>\n",
       "    <tr>\n",
       "      <th>334.0</th>\n",
       "      <td>0.945417</td>\n",
       "    </tr>\n",
       "    <tr>\n",
       "      <th>338.0</th>\n",
       "      <td>0.945303</td>\n",
       "    </tr>\n",
       "    <tr>\n",
       "      <th>339.0</th>\n",
       "      <td>0.945189</td>\n",
       "    </tr>\n",
       "    <tr>\n",
       "      <th>340.0</th>\n",
       "      <td>0.944846</td>\n",
       "    </tr>\n",
       "    <tr>\n",
       "      <th>341.0</th>\n",
       "      <td>0.944503</td>\n",
       "    </tr>\n",
       "    <tr>\n",
       "      <th>343.0</th>\n",
       "      <td>0.944388</td>\n",
       "    </tr>\n",
       "    <tr>\n",
       "      <th>345.0</th>\n",
       "      <td>0.944159</td>\n",
       "    </tr>\n",
       "    <tr>\n",
       "      <th>347.0</th>\n",
       "      <td>0.943930</td>\n",
       "    </tr>\n",
       "    <tr>\n",
       "      <th>348.0</th>\n",
       "      <td>0.943128</td>\n",
       "    </tr>\n",
       "    <tr>\n",
       "      <th>352.0</th>\n",
       "      <td>0.943014</td>\n",
       "    </tr>\n",
       "    <tr>\n",
       "      <th>353.0</th>\n",
       "      <td>0.942784</td>\n",
       "    </tr>\n",
       "    <tr>\n",
       "      <th>355.0</th>\n",
       "      <td>0.941752</td>\n",
       "    </tr>\n",
       "    <tr>\n",
       "      <th>356.0</th>\n",
       "      <td>0.941637</td>\n",
       "    </tr>\n",
       "    <tr>\n",
       "      <th>358.0</th>\n",
       "      <td>0.941522</td>\n",
       "    </tr>\n",
       "    <tr>\n",
       "      <th>359.0</th>\n",
       "      <td>0.941407</td>\n",
       "    </tr>\n",
       "    <tr>\n",
       "      <th>360.0</th>\n",
       "      <td>0.941293</td>\n",
       "    </tr>\n",
       "    <tr>\n",
       "      <th>361.0</th>\n",
       "      <td>0.940948</td>\n",
       "    </tr>\n",
       "    <tr>\n",
       "      <th>362.0</th>\n",
       "      <td>0.939569</td>\n",
       "    </tr>\n",
       "  </tbody>\n",
       "</table>\n",
       "<p>213 rows × 1 columns</p>\n",
       "</div>"
      ],
      "text/plain": [
       "          KM_estimate\n",
       "timeline             \n",
       "1.0          0.999894\n",
       "2.0          0.999788\n",
       "3.0          0.999682\n",
       "5.0          0.998940\n",
       "8.0          0.998834\n",
       "9.0          0.998728\n",
       "11.0         0.998622\n",
       "12.0         0.998198\n",
       "16.0         0.998092\n",
       "17.0         0.997774\n",
       "18.0         0.997668\n",
       "19.0         0.997349\n",
       "20.0         0.997243\n",
       "22.0         0.996925\n",
       "23.0         0.996819\n",
       "25.0         0.996713\n",
       "26.0         0.996183\n",
       "30.0         0.996077\n",
       "32.0         0.995971\n",
       "33.0         0.995759\n",
       "36.0         0.995653\n",
       "37.0         0.995441\n",
       "38.0         0.995229\n",
       "39.0         0.994911\n",
       "40.0         0.994699\n",
       "43.0         0.994487\n",
       "44.0         0.994169\n",
       "45.0         0.994063\n",
       "46.0         0.993851\n",
       "47.0         0.993109\n",
       "...               ...\n",
       "316.0        0.948838\n",
       "317.0        0.948724\n",
       "318.0        0.948610\n",
       "319.0        0.948497\n",
       "320.0        0.947928\n",
       "321.0        0.947814\n",
       "325.0        0.947700\n",
       "326.0        0.947359\n",
       "327.0        0.946903\n",
       "330.0        0.946560\n",
       "331.0        0.946217\n",
       "333.0        0.945989\n",
       "334.0        0.945417\n",
       "338.0        0.945303\n",
       "339.0        0.945189\n",
       "340.0        0.944846\n",
       "341.0        0.944503\n",
       "343.0        0.944388\n",
       "345.0        0.944159\n",
       "347.0        0.943930\n",
       "348.0        0.943128\n",
       "352.0        0.943014\n",
       "353.0        0.942784\n",
       "355.0        0.941752\n",
       "356.0        0.941637\n",
       "358.0        0.941522\n",
       "359.0        0.941407\n",
       "360.0        0.941293\n",
       "361.0        0.940948\n",
       "362.0        0.939569\n",
       "\n",
       "[213 rows x 1 columns]"
      ]
     },
     "execution_count": 131,
     "metadata": {},
     "output_type": "execute_result"
    }
   ],
   "source": [
    "############### Fit Tenure with Terminated\n",
    "x_train,x_test,y_train,y_test = train_test_split(exp_vars['Tenure'],target['Terminated'],test_size = 0.20,random_state = 100)\n",
    "kmf_fit = kmf.fit(x_train,event_observed = y_train)\n",
    "kmf_fit.survival_function_[1:365]"
   ]
  },
  {
   "cell_type": "code",
   "execution_count": 132,
   "metadata": {
    "collapsed": false
   },
   "outputs": [
    {
     "ename": "TypeError",
     "evalue": "'str' object is not callable",
     "output_type": "error",
     "traceback": [
      "\u001b[0;31m---------------------------------------------------------------------------\u001b[0m",
      "\u001b[0;31mTypeError\u001b[0m                                 Traceback (most recent call last)",
      "\u001b[0;32m<ipython-input-132-d8e1e43d6794>\u001b[0m in \u001b[0;36m<module>\u001b[0;34m()\u001b[0m\n\u001b[1;32m      2\u001b[0m \u001b[0;32mfrom\u001b[0m \u001b[0mmatplotlib\u001b[0m \u001b[0;32mimport\u001b[0m \u001b[0mpyplot\u001b[0m \u001b[0;32mas\u001b[0m \u001b[0mplt\u001b[0m\u001b[0;34m\u001b[0m\u001b[0m\n\u001b[1;32m      3\u001b[0m \u001b[0;32mimport\u001b[0m \u001b[0mseaborn\u001b[0m \u001b[0;32mas\u001b[0m \u001b[0msns\u001b[0m\u001b[0;34m\u001b[0m\u001b[0m\n\u001b[0;32m----> 4\u001b[0;31m \u001b[0mplt\u001b[0m\u001b[0;34m.\u001b[0m\u001b[0mtitle\u001b[0m\u001b[0;34m(\u001b[0m\u001b[0;34m'Survival function of Employees'\u001b[0m\u001b[0;34m)\u001b[0m\u001b[0;34m;\u001b[0m\u001b[0;34m\u001b[0m\u001b[0m\n\u001b[0m\u001b[1;32m      5\u001b[0m \u001b[0mget_ipython\u001b[0m\u001b[0;34m(\u001b[0m\u001b[0;34m)\u001b[0m\u001b[0;34m.\u001b[0m\u001b[0mmagic\u001b[0m\u001b[0;34m(\u001b[0m\u001b[0;34m'matplotlib inline'\u001b[0m\u001b[0;34m)\u001b[0m\u001b[0;34m\u001b[0m\u001b[0m\n\u001b[1;32m      6\u001b[0m \u001b[0mkmf\u001b[0m\u001b[0;34m.\u001b[0m\u001b[0mplot\u001b[0m\u001b[0;34m(\u001b[0m\u001b[0;34m)\u001b[0m\u001b[0;34m\u001b[0m\u001b[0m\n",
      "\u001b[0;31mTypeError\u001b[0m: 'str' object is not callable"
     ]
    },
    {
     "data": {
      "image/png": "[encoded data removed]",
      "text/plain": [
       "<matplotlib.figure.Figure at 0x7f5fe16388d0>"
      ]
     },
     "metadata": {},
     "output_type": "display_data"
    }
   ],
   "source": [
    "kmf.survival_function_.plot()\n",
    "from matplotlib import pyplot as plt\n",
    "import seaborn as sns\n",
    "plt.title('Survival function of Employees');\n",
    "%matplotlib inline\n",
    "kmf.plot()"
   ]
  },
  {
   "cell_type": "code",
   "execution_count": 140,
   "metadata": {
    "collapsed": false
   },
   "outputs": [
    {
     "ename": "TypeError",
     "evalue": "'str' object is not callable",
     "output_type": "error",
     "traceback": [
      "\u001b[0;31m---------------------------------------------------------------------------\u001b[0m",
      "\u001b[0;31mTypeError\u001b[0m                                 Traceback (most recent call last)",
      "\u001b[0;32m<ipython-input-140-405d4b0a0851>\u001b[0m in \u001b[0;36m<module>\u001b[0;34m()\u001b[0m\n\u001b[1;32m     19\u001b[0m \u001b[0;34m\u001b[0m\u001b[0m\n\u001b[1;32m     20\u001b[0m \u001b[0mplt\u001b[0m\u001b[0;34m.\u001b[0m\u001b[0mylim\u001b[0m\u001b[0;34m(\u001b[0m\u001b[0;36m0\u001b[0m\u001b[0;34m,\u001b[0m\u001b[0;36m1\u001b[0m\u001b[0;34m)\u001b[0m\u001b[0;34m;\u001b[0m\u001b[0;34m\u001b[0m\u001b[0m\n\u001b[0;32m---> 21\u001b[0;31m \u001b[0mplt\u001b[0m\u001b[0;34m.\u001b[0m\u001b[0mtitle\u001b[0m\u001b[0;34m(\u001b[0m\u001b[0;34m\"Lifespans of customers in different states\"\u001b[0m\u001b[0;34m)\u001b[0m\u001b[0;34m;\u001b[0m\u001b[0;34m\u001b[0m\u001b[0m\n\u001b[0m",
      "\u001b[0;31mTypeError\u001b[0m: 'str' object is not callable"
     ]
    },
    {
     "data": {
      "image/png": "[encoded data removed]",
      "text/plain": [
       "<matplotlib.figure.Figure at 0x7f5fe28e6a20>"
      ]
     },
     "metadata": {},
     "output_type": "display_data"
    },
    {
     "data": {
      "image/png": "[encoded data removed]",
      "text/plain": [
       "<matplotlib.figure.Figure at 0x7f5fe28e69e8>"
      ]
     },
     "metadata": {},
     "output_type": "display_data"
    }
   ],
   "source": [
    "ax = plt.subplot(111)\n",
    "plt.figure(figsize = [10,10])\n",
    "\n",
    "Audit = (data_attr[\"Department\"] == \"Audit\")\n",
    "kmf.fit(exp_vars[Audit], event_observed=target[Audit], label=\"Audit\")\n",
    "kmf.plot(ax=ax, ci_force_lines=True)\n",
    "\n",
    "Finance = (data_attr[\"Department\"] == \"Finance\")\n",
    "kmf.fit(exp_vars[Finance], event_observed=target[Finance], label=\"Finance\")\n",
    "kmf.plot(ax=ax, ci_force_lines=True)\n",
    "\n",
    "Tax = (data_attr[\"Department\"] == \"Tax\")\n",
    "kmf.fit(exp_vars[Tax], event_observed=target[Tax], label=\"Tax\")\n",
    "kmf.plot(ax=ax, ci_force_lines=True)\n",
    "\n",
    "IT = (data_attr[\"Department\"] == \"IT\")\n",
    "kmf.fit(exp_vars[IT], event_observed=target[IT], label=\"IT\")\n",
    "kmf.plot(ax=ax, ci_force_lines=True)\n",
    "\n",
    "plt.ylim(0,1);\n",
    "plt.title(\"Lifespans of customers in different states\");"
   ]
  },
  {
   "cell_type": "code",
   "execution_count": 68,
   "metadata": {
    "collapsed": true
   },
   "outputs": [],
   "source": [
    "Audit = (data_attr.Department == \"Audit\")"
   ]
  },
  {
   "cell_type": "code",
   "execution_count": 69,
   "metadata": {
    "collapsed": false
   },
   "outputs": [
    {
     "data": {
      "text/plain": [
       "0    False\n",
       "1    False\n",
       "2     True\n",
       "3    False\n",
       "4    False\n",
       "Name: Department, dtype: bool"
      ]
     },
     "execution_count": 69,
     "metadata": {},
     "output_type": "execute_result"
    }
   ],
   "source": []
  },
  {
   "cell_type": "code",
   "execution_count": null,
   "metadata": {
    "collapsed": true
   },
   "outputs": [],
   "source": []
  }
 ],
 "metadata": {
  "anaconda-cloud": {},
  "kernelspec": {
   "display_name": "Python [conda root]",
   "language": "python",
   "name": "conda-root-py"
  },
  "language_info": {
   "codemirror_mode": {
    "name": "ipython",
    "version": 3
   },
   "file_extension": ".py",
   "mimetype": "text/x-python",
   "name": "python",
   "nbconvert_exporter": "python",
   "pygments_lexer": "ipython3",
   "version": "3.5.2"
  }
 },
 "nbformat": 4,
 "nbformat_minor": 2
}
